{
 "cells": [
  {
   "cell_type": "code",
   "execution_count": 3,
   "id": "3f1e1916",
   "metadata": {},
   "outputs": [
    {
     "name": "stdout",
     "output_type": "stream",
     "text": [
      "6\n"
     ]
    }
   ],
   "source": [
    "#Python program to add two num\n",
    "x1=20\n",
    "x2=40\n",
    "ans=a+b\n",
    "print(ans)"
   ]
  },
  {
   "cell_type": "code",
   "execution_count": 4,
   "id": "2aa718a6",
   "metadata": {},
   "outputs": [
    {
     "data": {
      "text/plain": [
       "16"
      ]
     },
     "execution_count": 4,
     "metadata": {},
     "output_type": "execute_result"
    }
   ],
   "source": [
    "#Python program to find the square\n",
    "a=2**4\n",
    "a"
   ]
  },
  {
   "cell_type": "code",
   "execution_count": 6,
   "id": "baff1ed4",
   "metadata": {},
   "outputs": [
    {
     "data": {
      "text/plain": [
       "125.0"
      ]
     },
     "execution_count": 6,
     "metadata": {},
     "output_type": "execute_result"
    }
   ],
   "source": [
    "#Python program to calculate the Area of Triangle\n",
    "b=10\n",
    "h=25\n",
    "area =0.5*b*h\n",
    "area"
   ]
  },
  {
   "cell_type": "code",
   "execution_count": 7,
   "id": "3038d4fd",
   "metadata": {},
   "outputs": [
    {
     "data": {
      "text/plain": [
       "20.0"
      ]
     },
     "execution_count": 7,
     "metadata": {},
     "output_type": "execute_result"
    }
   ],
   "source": [
    "#Python Program to find Simple interest\n",
    "p=100 #Principal interest\n",
    "t=2 #TIme\n",
    "r=10 #Rate of the interest  \n",
    "si=(p*t*r)/100 #The formula to find the Simple interest\n",
    "si"
   ]
  },
  {
   "cell_type": "code",
   "execution_count": 9,
   "id": "afe945b9",
   "metadata": {},
   "outputs": [
    {
     "data": {
      "text/plain": [
       "214358881000.0"
      ]
     },
     "execution_count": 9,
     "metadata": {},
     "output_type": "execute_result"
    }
   ],
   "source": [
    "#Python Program to find the Compound Interest\n",
    "p=1000 #Principal interest\n",
    "t=4 #Time\n",
    "r=20 #Rate of interest\n",
    "n=2 #Num of years money is invested\n",
    "CI=p*(1+r/n)**(n*t) #The formula to find the Compound interest\n",
    "CI"
   ]
  }
 ],
 "metadata": {
  "kernelspec": {
   "display_name": "Python 3 (ipykernel)",
   "language": "python",
   "name": "python3"
  },
  "language_info": {
   "codemirror_mode": {
    "name": "ipython",
    "version": 3
   },
   "file_extension": ".py",
   "mimetype": "text/x-python",
   "name": "python",
   "nbconvert_exporter": "python",
   "pygments_lexer": "ipython3",
   "version": "3.11.5"
  }
 },
 "nbformat": 4,
 "nbformat_minor": 5
}
