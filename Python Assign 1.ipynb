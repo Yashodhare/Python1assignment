{
 "cells": [
  {
   "cell_type": "code",
   "execution_count": 1,
   "id": "616da919",
   "metadata": {},
   "outputs": [
    {
     "name": "stdout",
     "output_type": "stream",
     "text": [
      "Enter a value2\n",
      "Enter b value0.2\n",
      "The sum of A and B is = 2.2\n",
      "<class 'float'>\n",
      "True\n"
     ]
    }
   ],
   "source": [
    "#Read two num from user, one is integer and  another float, and add them and find the datatype and also find them into boolean type\n",
    "A=int(input('Enter a value'))\n",
    "B=float(input('Enter b value'))\n",
    "sum=A+B\n",
    "print('The sum of A and B is =',sum)\n",
    "print(type(sum))\n",
    "print(bool(sum))\n"
   ]
  },
  {
   "cell_type": "code",
   "execution_count": null,
   "id": "b65c0146",
   "metadata": {},
   "outputs": [],
   "source": []
  }
 ],
 "metadata": {
  "kernelspec": {
   "display_name": "Python 3 (ipykernel)",
   "language": "python",
   "name": "python3"
  },
  "language_info": {
   "codemirror_mode": {
    "name": "ipython",
    "version": 3
   },
   "file_extension": ".py",
   "mimetype": "text/x-python",
   "name": "python",
   "nbconvert_exporter": "python",
   "pygments_lexer": "ipython3",
   "version": "3.11.5"
  }
 },
 "nbformat": 4,
 "nbformat_minor": 5
}
