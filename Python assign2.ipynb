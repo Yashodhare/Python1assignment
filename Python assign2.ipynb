{
 "cells": [
  {
   "cell_type": "code",
   "execution_count": 1,
   "id": "23a7dbc0",
   "metadata": {},
   "outputs": [
    {
     "data": {
      "text/plain": [
       "'Hello-World'"
      ]
     },
     "execution_count": 1,
     "metadata": {},
     "output_type": "execute_result"
    }
   ],
   "source": [
    "s1='Hello'\n",
    "s2='World'\n",
    "s3=s1+'-'+s2\n",
    "s3"
   ]
  },
  {
   "cell_type": "code",
   "execution_count": 6,
   "id": "431f4a37",
   "metadata": {},
   "outputs": [
    {
     "name": "stdout",
     "output_type": "stream",
     "text": [
      "Welcome to Disney world\n"
     ]
    }
   ],
   "source": [
    "#string manupulation\n",
    "str1='Welcome to Disney world'\n",
    "print(str1)\n",
    "\n"
   ]
  },
  {
   "cell_type": "code",
   "execution_count": 7,
   "id": "a58cec06",
   "metadata": {},
   "outputs": [
    {
     "data": {
      "text/plain": [
       "23"
      ]
     },
     "execution_count": 7,
     "metadata": {},
     "output_type": "execute_result"
    }
   ],
   "source": [
    "len(str1)"
   ]
  },
  {
   "cell_type": "code",
   "execution_count": 10,
   "id": "e97b410d",
   "metadata": {},
   "outputs": [
    {
     "data": {
      "text/plain": [
       "' yensiD'"
      ]
     },
     "execution_count": 10,
     "metadata": {},
     "output_type": "execute_result"
    }
   ],
   "source": [
    "str1[-6:-13:-1]"
   ]
  },
  {
   "cell_type": "code",
   "execution_count": 11,
   "id": "0a58e8ba",
   "metadata": {},
   "outputs": [
    {
     "name": "stdout",
     "output_type": "stream",
     "text": [
      "Enter stringHello 2 all\n"
     ]
    },
    {
     "data": {
      "text/plain": [
       "'Hello 2 all'"
      ]
     },
     "execution_count": 11,
     "metadata": {},
     "output_type": "execute_result"
    }
   ],
   "source": [
    "str2=input('Enter string')\n",
    "str2"
   ]
  },
  {
   "cell_type": "code",
   "execution_count": 12,
   "id": "97740bf9",
   "metadata": {},
   "outputs": [],
   "source": [
    "mystr2='Hello 2 all'"
   ]
  },
  {
   "cell_type": "code",
   "execution_count": 13,
   "id": "7e6913fe",
   "metadata": {},
   "outputs": [
    {
     "data": {
      "text/plain": [
       "True"
      ]
     },
     "execution_count": 13,
     "metadata": {},
     "output_type": "execute_result"
    }
   ],
   "source": [
    "'2' in mystr2"
   ]
  },
  {
   "cell_type": "code",
   "execution_count": 14,
   "id": "12f9c892",
   "metadata": {},
   "outputs": [
    {
     "data": {
      "text/plain": [
       "1"
      ]
     },
     "execution_count": 14,
     "metadata": {},
     "output_type": "execute_result"
    }
   ],
   "source": [
    "mystr2.count('Hello')"
   ]
  },
  {
   "cell_type": "code",
   "execution_count": 15,
   "id": "e7af7bf1",
   "metadata": {},
   "outputs": [
    {
     "data": {
      "text/plain": [
       "True"
      ]
     },
     "execution_count": 15,
     "metadata": {},
     "output_type": "execute_result"
    }
   ],
   "source": [
    "'Hello' in mystr2"
   ]
  },
  {
   "cell_type": "code",
   "execution_count": 16,
   "id": "f0d8e325",
   "metadata": {},
   "outputs": [
    {
     "data": {
      "text/plain": [
       "'Hello 2 '"
      ]
     },
     "execution_count": 16,
     "metadata": {},
     "output_type": "execute_result"
    }
   ],
   "source": [
    "mystr2.strip('all')"
   ]
  },
  {
   "cell_type": "code",
   "execution_count": 22,
   "id": "f8771923",
   "metadata": {},
   "outputs": [
    {
     "name": "stdout",
     "output_type": "stream",
     "text": [
      "['Monday', 'Tuesday', 'Wednesday', 'Thursday', 'Friday', 'Monday', 'Saturday', 'Wednesday']\n"
     ]
    }
   ],
   "source": [
    "mystr3='Monday Tuesday Wednesday Thursday Friday Monday Saturday Wednesday'\n",
    "print(mystr3.split()) "
   ]
  },
  {
   "cell_type": "code",
   "execution_count": 25,
   "id": "1769f882",
   "metadata": {},
   "outputs": [
    {
     "name": "stdout",
     "output_type": "stream",
     "text": [
      ".Hello 2 all.Hello 2 all.Hello 2 all.Hello 2 all.Hello 2 all.Hello 2 all.Hello 2 all.\n"
     ]
    }
   ],
   "source": [
    "print(mystr2.join('........'))"
   ]
  },
  {
   "cell_type": "code",
   "execution_count": 28,
   "id": "da3a2ed9",
   "metadata": {},
   "outputs": [
    {
     "name": "stdout",
     "output_type": "stream",
     "text": [
      "Hello 2 you\n"
     ]
    }
   ],
   "source": [
    "print(mystr2.replace('all','you'))"
   ]
  },
  {
   "cell_type": "code",
   "execution_count": null,
   "id": "7ecdbc48",
   "metadata": {},
   "outputs": [],
   "source": []
  }
 ],
 "metadata": {
  "kernelspec": {
   "display_name": "Python 3 (ipykernel)",
   "language": "python",
   "name": "python3"
  },
  "language_info": {
   "codemirror_mode": {
    "name": "ipython",
    "version": 3
   },
   "file_extension": ".py",
   "mimetype": "text/x-python",
   "name": "python",
   "nbconvert_exporter": "python",
   "pygments_lexer": "ipython3",
   "version": "3.11.5"
  }
 },
 "nbformat": 4,
 "nbformat_minor": 5
}
