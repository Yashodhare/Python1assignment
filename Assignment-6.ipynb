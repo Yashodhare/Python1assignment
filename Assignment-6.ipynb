{
 "cells": [
  {
   "cell_type": "code",
   "execution_count": 1,
   "id": "0784d3c2",
   "metadata": {},
   "outputs": [
    {
     "name": "stdout",
     "output_type": "stream",
     "text": [
      "Enter a number: 4\n",
      "4 is not a prime number.\n"
     ]
    }
   ],
   "source": [
    "# Python Program to Check Prime Number\n",
    "def is_prime(num):\n",
    "    if num <= 1:\n",
    "        return False\n",
    "    if num <= 3:\n",
    "        return True\n",
    "\n",
    "    if num % 2 == 0 or num % 3 == 0:\n",
    "        return False\n",
    "\n",
    "    i = 5\n",
    "    while i * i <= num:\n",
    "        if num % i == 0 or num % (i + 2) == 0:\n",
    "            return False\n",
    "        i += 6 # compound assignment program\n",
    "\n",
    "    return True\n",
    "\n",
    "# result \n",
    "num = int(input(\"Enter a number: \"))\n",
    "if is_prime(num):\n",
    "    print(num, \"is a prime number.\")\n",
    "else:\n",
    "    print(num, \"is not a prime number.\")"
   ]
  },
  {
   "cell_type": "code",
   "execution_count": 2,
   "id": "dab69adf",
   "metadata": {},
   "outputs": [
    {
     "name": "stdout",
     "output_type": "stream",
     "text": [
      "2\n",
      "3\n",
      "5\n",
      "7\n",
      "11\n",
      "13\n",
      "17\n",
      "19\n",
      "23\n",
      "29\n",
      "31\n",
      "37\n",
      "41\n",
      "43\n",
      "47\n",
      "53\n",
      "59\n",
      "61\n",
      "67\n",
      "71\n",
      "73\n",
      "79\n",
      "83\n",
      "89\n",
      "97\n"
     ]
    }
   ],
   "source": [
    "# To Print all Prime numbers Btwn 1 to 100\n",
    "def is_prime(n):\n",
    "    if n <= 1:\n",
    "        return False\n",
    "    i = 2\n",
    "    while i*i <= n:\n",
    "        if n % i == 0:\n",
    "            return False\n",
    "        i += 1\n",
    "    return True\n",
    " \n",
    "\n",
    "n = 2\n",
    "count = 0\n",
    "while count < 25:\n",
    "    if is_prime(n):\n",
    "        print(n)\n",
    "        count += 1\n",
    "    n += 1"
   ]
  },
  {
   "cell_type": "code",
   "execution_count": 5,
   "id": "8c575a0e",
   "metadata": {},
   "outputs": [
    {
     "name": "stdout",
     "output_type": "stream",
     "text": [
      "Factorial of 8 is 40320\n"
     ]
    }
   ],
   "source": [
    "# factorial of given number\n",
    "def factorial(n):\n",
    "\n",
    "    return 1 if (n==1 or n==0) else n * factorial(n - 1) \n",
    "\n",
    "\n",
    "num = 8\n",
    "print(\"Factorial of\",num,\"is\",factorial(num))"
   ]
  },
  {
   "cell_type": "code",
   "execution_count": 5,
   "id": "b1716c83",
   "metadata": {},
   "outputs": [],
   "source": [
    "from datetime import date\n"
   ]
  },
  {
   "cell_type": "code",
   "execution_count": 6,
   "id": "352f7664",
   "metadata": {},
   "outputs": [
    {
     "data": {
      "text/plain": [
       "datetime.date(2000, 2, 21)"
      ]
     },
     "execution_count": 6,
     "metadata": {},
     "output_type": "execute_result"
    }
   ],
   "source": [
    "my_date=date(2000,2,21)\n",
    "my_date"
   ]
  },
  {
   "cell_type": "code",
   "execution_count": 7,
   "id": "896ffbf0",
   "metadata": {},
   "outputs": [
    {
     "name": "stdout",
     "output_type": "stream",
     "text": [
      "Today's date is 2023-11-02\n"
     ]
    }
   ],
   "source": [
    "today1=date.today()\n",
    "print(\"Today's date is\", today1)"
   ]
  },
  {
   "cell_type": "code",
   "execution_count": 8,
   "id": "0c56a82c",
   "metadata": {},
   "outputs": [
    {
     "data": {
      "text/plain": [
       "4"
      ]
     },
     "execution_count": 8,
     "metadata": {},
     "output_type": "execute_result"
    }
   ],
   "source": [
    "today1.isoweekday()"
   ]
  },
  {
   "cell_type": "code",
   "execution_count": 9,
   "id": "23182db7",
   "metadata": {},
   "outputs": [
    {
     "name": "stdout",
     "output_type": "stream",
     "text": [
      "current year: 2023\n",
      "current month: 11\n",
      "current day: 2\n"
     ]
    }
   ],
   "source": [
    "print('current year:', today1.year)\n",
    "print('current month:',today1.month)\n",
    "print('current day:',today1.day)"
   ]
  },
  {
   "cell_type": "code",
   "execution_count": 10,
   "id": "e642e14e",
   "metadata": {},
   "outputs": [
    {
     "data": {
      "text/plain": [
       "datetime.datetime(2023, 11, 2, 14, 42, 29, 872394)"
      ]
     },
     "execution_count": 10,
     "metadata": {},
     "output_type": "execute_result"
    }
   ],
   "source": [
    "from datetime import datetime as dt\n",
    "date1=dt.now()\n",
    "date1"
   ]
  },
  {
   "cell_type": "code",
   "execution_count": 4,
   "id": "3366a3e4",
   "metadata": {},
   "outputs": [],
   "source": [
    "from datetime import date, timedelta"
   ]
  },
  {
   "cell_type": "code",
   "execution_count": 5,
   "id": "2e80b646",
   "metadata": {},
   "outputs": [
    {
     "name": "stdout",
     "output_type": "stream",
     "text": [
      "today: 2023-11-02\n",
      "Future date after 5000 days is: : 2037-07-11\n",
      "Date of birth is: 2000-02-21\n",
      "Age: 37\n"
     ]
    }
   ],
   "source": [
    "# Task:- Calculate your age after 5000 days.\n",
    "## The output should be in years\n",
    "\n",
    "#1. Find todays date\n",
    "todaysdate=date.today()\n",
    "print('today:', todaysdate)\n",
    "\n",
    "#2. future date after 5000 days\n",
    "futuredate=todaysdate+timedelta(days=5000)\n",
    "print('Future date after 5000 days is: :', futuredate)\n",
    "\n",
    "#3. create a date object with date of birth\n",
    "dob=date(2000,2,21)\n",
    "print('Date of birth is:', dob)\n",
    "\n",
    "#4. Calculate age by substracting two dates\n",
    "age=(futuredate.year-dob.year)\n",
    "print('Age:', age)"
   ]
  },
  {
   "cell_type": "code",
   "execution_count": 131,
   "id": "7b4abc3b",
   "metadata": {},
   "outputs": [
    {
     "name": "stdout",
     "output_type": "stream",
     "text": [
      "[1, 2, 3, 4, 5]\n"
     ]
    }
   ],
   "source": [
    "l1=list([1,2,3,4,5])\n",
    "print(l1)\n"
   ]
  },
  {
   "cell_type": "code",
   "execution_count": 132,
   "id": "3ff555e0",
   "metadata": {},
   "outputs": [
    {
     "data": {
      "text/plain": [
       "5"
      ]
     },
     "execution_count": 132,
     "metadata": {},
     "output_type": "execute_result"
    }
   ],
   "source": [
    "len(l1)"
   ]
  },
  {
   "cell_type": "code",
   "execution_count": 123,
   "id": "0165fd40",
   "metadata": {},
   "outputs": [],
   "source": [
    "mylist=['one','two','three','four','five','six','seven','eight']"
   ]
  },
  {
   "cell_type": "code",
   "execution_count": 124,
   "id": "1089196d",
   "metadata": {},
   "outputs": [
    {
     "data": {
      "text/plain": [
       "'seven'"
      ]
     },
     "execution_count": 124,
     "metadata": {},
     "output_type": "execute_result"
    }
   ],
   "source": [
    "mylist[6]\n"
   ]
  },
  {
   "cell_type": "code",
   "execution_count": 5,
   "id": "6c39fbec",
   "metadata": {},
   "outputs": [
    {
     "data": {
      "text/plain": [
       "['eight', 'seven']"
      ]
     },
     "execution_count": 5,
     "metadata": {},
     "output_type": "execute_result"
    }
   ],
   "source": [
    "mylist[-1:-3:-1]"
   ]
  },
  {
   "cell_type": "code",
   "execution_count": 35,
   "id": "67eb72d1",
   "metadata": {},
   "outputs": [
    {
     "data": {
      "text/plain": [
       "['one', 'two', 'three', 'four', 'five', 'six', 'seven', 'eight', 'eight']"
      ]
     },
     "execution_count": 35,
     "metadata": {},
     "output_type": "execute_result"
    }
   ],
   "source": [
    "mylist=['one','two','three','four','five','six','seven','eight']\n",
    "mylist.append('eight')\n",
    "mylist"
   ]
  },
  {
   "cell_type": "code",
   "execution_count": 36,
   "id": "761faaf8",
   "metadata": {},
   "outputs": [
    {
     "data": {
      "text/plain": [
       "['one', 'two', 'three', 'four', 'five', 'seven', 'eight', 'eight']"
      ]
     },
     "execution_count": 36,
     "metadata": {},
     "output_type": "execute_result"
    }
   ],
   "source": [
    "#Add,remove and change items\n",
    "mylist.remove('six')\n",
    "mylist"
   ]
  },
  {
   "cell_type": "code",
   "execution_count": 85,
   "id": "75ca3ad2",
   "metadata": {},
   "outputs": [
    {
     "name": "stdout",
     "output_type": "stream",
     "text": [
      "['one', 'two', 3, 'three', 'four', 'five', 'six', 'seven', 'eight', 'nine', 'ten']\n"
     ]
    }
   ],
   "source": [
    "mylist=['one','two','three','four','five','six','seven','eight','nine','ten']\n",
    "mylist.insert(2,3)\n",
    "print(mylist)"
   ]
  },
  {
   "cell_type": "code",
   "execution_count": 140,
   "id": "c8385df8",
   "metadata": {},
   "outputs": [],
   "source": [
    "list1=['one','two','three','four']\n",
    "list2=['five','six','seven','eight','nine']"
   ]
  },
  {
   "cell_type": "code",
   "execution_count": 141,
   "id": "5db5c157",
   "metadata": {},
   "outputs": [
    {
     "data": {
      "text/plain": [
       "['one', 'two', 'three', 'four', 'five', 'six', 'seven', 'eight', 'nine']"
      ]
     },
     "execution_count": 141,
     "metadata": {},
     "output_type": "execute_result"
    }
   ],
   "source": [
    "list3=list1+list2\n",
    "list3"
   ]
  },
  {
   "cell_type": "code",
   "execution_count": 142,
   "id": "8c39cf96",
   "metadata": {},
   "outputs": [
    {
     "name": "stdout",
     "output_type": "stream",
     "text": [
      "['five', 'six', 'seven', 'eight', 'nine', 'one', 'two', 'three', 'four']\n"
     ]
    }
   ],
   "source": [
    "list2.extend(list1)\n",
    "print(list2)"
   ]
  },
  {
   "cell_type": "code",
   "execution_count": 143,
   "id": "9a2b4099",
   "metadata": {},
   "outputs": [
    {
     "name": "stdout",
     "output_type": "stream",
     "text": [
      "['one', 'two', 'three', 'four', 'five', 'six', 'seven', 'eight', 'nine', 'one', 'two', 'three', 'four']\n"
     ]
    }
   ],
   "source": [
    "list1.extend(list2)\n",
    "print(list1)"
   ]
  },
  {
   "cell_type": "code",
   "execution_count": 144,
   "id": "1e0ff423",
   "metadata": {},
   "outputs": [
    {
     "name": "stdout",
     "output_type": "stream",
     "text": [
      "[['five', 'six', 'seven', 'eight', 'nine', 'one', 'two', 'three', 'four'], 'one', 'two', 'three', 'four', 'five', 'six', 'seven', 'eight', 'nine', 'one', 'two', 'three', 'four']\n"
     ]
    }
   ],
   "source": [
    "list1.insert(0,list2)\n",
    "print(list1)"
   ]
  },
  {
   "cell_type": "markdown",
   "id": "394d8918",
   "metadata": {},
   "source": [
    "## Membership\n"
   ]
  },
  {
   "cell_type": "code",
   "execution_count": 146,
   "id": "3149bd5f",
   "metadata": {},
   "outputs": [
    {
     "data": {
      "text/plain": [
       "True"
      ]
     },
     "execution_count": 146,
     "metadata": {},
     "output_type": "execute_result"
    }
   ],
   "source": [
    "'one' in list1"
   ]
  },
  {
   "cell_type": "code",
   "execution_count": 92,
   "id": "3b811172",
   "metadata": {},
   "outputs": [
    {
     "data": {
      "text/plain": [
       "False"
      ]
     },
     "execution_count": 92,
     "metadata": {},
     "output_type": "execute_result"
    }
   ],
   "source": [
    "10 in list1"
   ]
  },
  {
   "cell_type": "code",
   "execution_count": 93,
   "id": "0eae1369",
   "metadata": {},
   "outputs": [
    {
     "data": {
      "text/plain": [
       "[1, 2, 3, 4, 5]"
      ]
     },
     "execution_count": 93,
     "metadata": {},
     "output_type": "execute_result"
    }
   ],
   "source": [
    "list1=[1,2,3,4,5]\n",
    "list1"
   ]
  },
  {
   "cell_type": "code",
   "execution_count": 94,
   "id": "a0c84e84",
   "metadata": {},
   "outputs": [
    {
     "data": {
      "text/plain": [
       "True"
      ]
     },
     "execution_count": 94,
     "metadata": {},
     "output_type": "execute_result"
    }
   ],
   "source": [
    "4 in list1"
   ]
  },
  {
   "cell_type": "code",
   "execution_count": 95,
   "id": "25a7fd7c",
   "metadata": {},
   "outputs": [
    {
     "data": {
      "text/plain": [
       "False"
      ]
     },
     "execution_count": 95,
     "metadata": {},
     "output_type": "execute_result"
    }
   ],
   "source": [
    "8 in list1"
   ]
  },
  {
   "cell_type": "markdown",
   "id": "57522148",
   "metadata": {},
   "source": [
    "## Reverse and Sort List\n"
   ]
  },
  {
   "cell_type": "code",
   "execution_count": null,
   "id": "36005c02",
   "metadata": {},
   "outputs": [],
   "source": [
    "list1=[2,3,6,4,7]\n",
    "list1.reverse()\n",
    "list1"
   ]
  },
  {
   "cell_type": "code",
   "execution_count": 97,
   "id": "7e8e9c23",
   "metadata": {},
   "outputs": [
    {
     "data": {
      "text/plain": [
       "[2, 3, 6, 4, 7]"
      ]
     },
     "execution_count": 97,
     "metadata": {},
     "output_type": "execute_result"
    }
   ],
   "source": [
    "list1[ -1:-8:-1]"
   ]
  },
  {
   "cell_type": "code",
   "execution_count": 98,
   "id": "5d18528a",
   "metadata": {},
   "outputs": [],
   "source": [
    "list1.sort()"
   ]
  },
  {
   "cell_type": "code",
   "execution_count": 99,
   "id": "89fef598",
   "metadata": {},
   "outputs": [
    {
     "data": {
      "text/plain": [
       "[2, 3, 4, 6, 7]"
      ]
     },
     "execution_count": 99,
     "metadata": {},
     "output_type": "execute_result"
    }
   ],
   "source": [
    "list1"
   ]
  },
  {
   "cell_type": "code",
   "execution_count": 100,
   "id": "0da36028",
   "metadata": {},
   "outputs": [
    {
     "data": {
      "text/plain": [
       "[7, 6, 5, 4, 3]"
      ]
     },
     "execution_count": 100,
     "metadata": {},
     "output_type": "execute_result"
    }
   ],
   "source": [
    "mylist3=[3,4,5,6,7]\n",
    "mylist3.sort(reverse=True)\n",
    "mylist3"
   ]
  },
  {
   "cell_type": "code",
   "execution_count": 101,
   "id": "e0111778",
   "metadata": {},
   "outputs": [],
   "source": [
    "#instances or object"
   ]
  },
  {
   "cell_type": "markdown",
   "id": "742ebb7b",
   "metadata": {},
   "source": [
    "## All/Any\n"
   ]
  },
  {
   "cell_type": "code",
   "execution_count": null,
   "id": "3ec84ff1",
   "metadata": {},
   "outputs": [],
   "source": [
    "L1=[1,2,3,4,5,6]\n",
    "L3=[1,2,3,4,0]"
   ]
  },
  {
   "cell_type": "code",
   "execution_count": 103,
   "id": "26607b4b",
   "metadata": {},
   "outputs": [
    {
     "data": {
      "text/plain": [
       "False"
      ]
     },
     "execution_count": 103,
     "metadata": {},
     "output_type": "execute_result"
    }
   ],
   "source": [
    "all(L3)"
   ]
  },
  {
   "cell_type": "code",
   "execution_count": 104,
   "id": "4dc0fede",
   "metadata": {},
   "outputs": [
    {
     "data": {
      "text/plain": [
       "True"
      ]
     },
     "execution_count": 104,
     "metadata": {},
     "output_type": "execute_result"
    }
   ],
   "source": [
    "any(L1)"
   ]
  },
  {
   "cell_type": "code",
   "execution_count": 105,
   "id": "886da5ba",
   "metadata": {},
   "outputs": [],
   "source": [
    "L2=['a','b','c']"
   ]
  },
  {
   "cell_type": "code",
   "execution_count": 106,
   "id": "b76bfc82",
   "metadata": {},
   "outputs": [
    {
     "name": "stdout",
     "output_type": "stream",
     "text": [
      "True\n"
     ]
    }
   ],
   "source": [
    "print(any(L2))"
   ]
  },
  {
   "cell_type": "code",
   "execution_count": 107,
   "id": "b6a3d14a",
   "metadata": {},
   "outputs": [
    {
     "name": "stdout",
     "output_type": "stream",
     "text": [
      "True\n"
     ]
    }
   ],
   "source": [
    "print(all(L2))"
   ]
  },
  {
   "cell_type": "markdown",
   "id": "b6d52941",
   "metadata": {},
   "source": [
    "## Tuples\n",
    "## Tuple Creation\n"
   ]
  },
  {
   "cell_type": "code",
   "execution_count": null,
   "id": "35fb5f72",
   "metadata": {},
   "outputs": [],
   "source": [
    "tup1=()\n",
    "len(tup1)"
   ]
  },
  {
   "cell_type": "code",
   "execution_count": 109,
   "id": "cd542b8d",
   "metadata": {},
   "outputs": [
    {
     "data": {
      "text/plain": [
       "tuple"
      ]
     },
     "execution_count": 109,
     "metadata": {},
     "output_type": "execute_result"
    }
   ],
   "source": [
    "type(tup1)"
   ]
  },
  {
   "cell_type": "code",
   "execution_count": 110,
   "id": "51297812",
   "metadata": {},
   "outputs": [],
   "source": [
    "tup2=(10,20,30)"
   ]
  },
  {
   "cell_type": "code",
   "execution_count": 111,
   "id": "19a19806",
   "metadata": {},
   "outputs": [],
   "source": [
    "tup3=(10.7,1.2,1.2,1.3)"
   ]
  },
  {
   "cell_type": "code",
   "execution_count": 112,
   "id": "ce9bddcc",
   "metadata": {},
   "outputs": [],
   "source": [
    "tup4=('one','two','three')"
   ]
  },
  {
   "cell_type": "code",
   "execution_count": 113,
   "id": "e095f945",
   "metadata": {},
   "outputs": [],
   "source": [
    "tup5=('Data',25,(50,100),(150,90))"
   ]
  },
  {
   "cell_type": "code",
   "execution_count": 114,
   "id": "16d9d352",
   "metadata": {},
   "outputs": [],
   "source": [
    "tup6=(100,'Data', 1.22)"
   ]
  },
  {
   "cell_type": "code",
   "execution_count": 164,
   "id": "0ce1f6b9",
   "metadata": {},
   "outputs": [
    {
     "data": {
      "text/plain": [
       "2"
      ]
     },
     "execution_count": 164,
     "metadata": {},
     "output_type": "execute_result"
    }
   ],
   "source": [
    "tup7=['Data',25,[(1,2,3),90],[30,2],{'ss','dd'},[(4,5,6),70],[90,99]]\n",
    "len(l1[2])"
   ]
  },
  {
   "cell_type": "code",
   "execution_count": 166,
   "id": "f209f840",
   "metadata": {},
   "outputs": [
    {
     "data": {
      "text/plain": [
       "['Data', 25, [(1, 2, 3), 90], [30, 2], {'dd', 'ss'}]"
      ]
     },
     "execution_count": 166,
     "metadata": {},
     "output_type": "execute_result"
    }
   ],
   "source": [
    "tup7=['Data',25,[(1,2,3),90],[30,2],{'ss','dd'}]\n",
    "tup7"
   ]
  },
  {
   "cell_type": "code",
   "execution_count": 167,
   "id": "30afb649",
   "metadata": {},
   "outputs": [
    {
     "name": "stdout",
     "output_type": "stream",
     "text": [
      "['Data', 25, [(1, 2, 3), 90], [30, 2], {'dd', 'ss'}, 3]\n"
     ]
    }
   ],
   "source": [
    "sum=tup7[2][0][0]+tup7[2][0][1]\n",
    "tup7.append(sum)\n",
    "print(tup7)"
   ]
  },
  {
   "cell_type": "code",
   "execution_count": 171,
   "id": "ce345d21",
   "metadata": {},
   "outputs": [
    {
     "data": {
      "text/plain": [
       "2"
      ]
     },
     "execution_count": 171,
     "metadata": {},
     "output_type": "execute_result"
    }
   ],
   "source": [
    "tup7[2][0][1]"
   ]
  },
  {
   "cell_type": "code",
   "execution_count": 119,
   "id": "914064ca",
   "metadata": {},
   "outputs": [],
   "source": [
    "#Tuple Indexing\n",
    "#Tuple Slicing\n",
    "#Remove and Change Items0"
   ]
  },
  {
   "cell_type": "code",
   "execution_count": null,
   "id": "ae053f8f",
   "metadata": {},
   "outputs": [],
   "source": [
    "#Count\n",
    "#Tuple Membership\n",
    "#Sorting\n"
   ]
  },
  {
   "cell_type": "code",
   "execution_count": 1,
   "id": "96af1d38",
   "metadata": {},
   "outputs": [
    {
     "name": "stdout",
     "output_type": "stream",
     "text": [
      "<class 'set'>\n"
     ]
    }
   ],
   "source": [
    "#Sets\n",
    "#Set creation\n",
    "myset=set()\n",
    "print(type(myset))"
   ]
  },
  {
   "cell_type": "code",
   "execution_count": 2,
   "id": "7e1007d6",
   "metadata": {},
   "outputs": [],
   "source": [
    "myset={1,2,3,4,5,5}"
   ]
  },
  {
   "cell_type": "code",
   "execution_count": 3,
   "id": "07ca439e",
   "metadata": {},
   "outputs": [
    {
     "data": {
      "text/plain": [
       "{1, 2, 3, 4, 5}"
      ]
     },
     "execution_count": 3,
     "metadata": {},
     "output_type": "execute_result"
    }
   ],
   "source": [
    "myset"
   ]
  },
  {
   "cell_type": "code",
   "execution_count": 4,
   "id": "0f16ac5b",
   "metadata": {},
   "outputs": [
    {
     "data": {
      "text/plain": [
       "set"
      ]
     },
     "execution_count": 4,
     "metadata": {},
     "output_type": "execute_result"
    }
   ],
   "source": [
    "type(myset)"
   ]
  },
  {
   "cell_type": "code",
   "execution_count": 5,
   "id": "532b97af",
   "metadata": {},
   "outputs": [
    {
     "data": {
      "text/plain": [
       "5"
      ]
     },
     "execution_count": 5,
     "metadata": {},
     "output_type": "execute_result"
    }
   ],
   "source": [
    "len(myset)"
   ]
  },
  {
   "cell_type": "code",
   "execution_count": 6,
   "id": "f51f8397",
   "metadata": {},
   "outputs": [
    {
     "data": {
      "text/plain": [
       "{1, 2, 3, 4, 5, 'TEN', 'TWO'}"
      ]
     },
     "execution_count": 6,
     "metadata": {},
     "output_type": "execute_result"
    }
   ],
   "source": [
    "#Set membership\n",
    "#Add and remove\n",
    "myset.update(['TEN','TWO'])\n",
    "myset"
   ]
  },
  {
   "cell_type": "code",
   "execution_count": 7,
   "id": "1fce855a",
   "metadata": {},
   "outputs": [],
   "source": [
    "myset.update('ONE')"
   ]
  },
  {
   "cell_type": "code",
   "execution_count": 8,
   "id": "c68ca065",
   "metadata": {},
   "outputs": [
    {
     "data": {
      "text/plain": [
       "{1, 2, 3, 4, 5, 'E', 'N', 'O', 'TEN', 'TWO'}"
      ]
     },
     "execution_count": 8,
     "metadata": {},
     "output_type": "execute_result"
    }
   ],
   "source": [
    "myset"
   ]
  },
  {
   "cell_type": "code",
   "execution_count": 9,
   "id": "052aa085",
   "metadata": {},
   "outputs": [
    {
     "data": {
      "text/plain": [
       "{1, 2, 3, 4, 5, 'E', 'N', 'TEN', 'TWO'}"
      ]
     },
     "execution_count": 9,
     "metadata": {},
     "output_type": "execute_result"
    }
   ],
   "source": [
    "myset.remove('O')\n",
    "myset"
   ]
  },
  {
   "cell_type": "code",
   "execution_count": null,
   "id": "f78b3e69",
   "metadata": {},
   "outputs": [],
   "source": [
    "#Discard"
   ]
  },
  {
   "cell_type": "code",
   "execution_count": 10,
   "id": "7ff76bc4",
   "metadata": {},
   "outputs": [
    {
     "data": {
      "text/plain": [
       "set()"
      ]
     },
     "execution_count": 10,
     "metadata": {},
     "output_type": "execute_result"
    }
   ],
   "source": [
    "myset.clear()\n",
    "myset"
   ]
  },
  {
   "cell_type": "code",
   "execution_count": 11,
   "id": "69408edd",
   "metadata": {},
   "outputs": [],
   "source": [
    "del myset"
   ]
  },
  {
   "cell_type": "code",
   "execution_count": 12,
   "id": "e167e2a1",
   "metadata": {},
   "outputs": [
    {
     "ename": "NameError",
     "evalue": "name 'myset' is not defined",
     "output_type": "error",
     "traceback": [
      "\u001b[1;31m---------------------------------------------------------------------------\u001b[0m",
      "\u001b[1;31mNameError\u001b[0m                                 Traceback (most recent call last)",
      "Cell \u001b[1;32mIn[12], line 1\u001b[0m\n\u001b[1;32m----> 1\u001b[0m myset\n",
      "\u001b[1;31mNameError\u001b[0m: name 'myset' is not defined"
     ]
    }
   ],
   "source": [
    "myset"
   ]
  },
  {
   "cell_type": "code",
   "execution_count": 13,
   "id": "11c988ae",
   "metadata": {},
   "outputs": [],
   "source": [
    "#Set operations\n",
    "A={1,2,3,4,5}\n",
    "B={4,5,6,7,8}\n",
    "C={8,9,10}"
   ]
  },
  {
   "cell_type": "code",
   "execution_count": 14,
   "id": "bac6cc10",
   "metadata": {},
   "outputs": [
    {
     "data": {
      "text/plain": [
       "{1, 2, 3, 4, 5, 6, 7, 8}"
      ]
     },
     "execution_count": 14,
     "metadata": {},
     "output_type": "execute_result"
    }
   ],
   "source": [
    "A.union(B)"
   ]
  },
  {
   "cell_type": "code",
   "execution_count": 15,
   "id": "6f1380af",
   "metadata": {},
   "outputs": [
    {
     "data": {
      "text/plain": [
       "{1, 2, 3, 4, 5, 6, 7, 8}"
      ]
     },
     "execution_count": 15,
     "metadata": {},
     "output_type": "execute_result"
    }
   ],
   "source": [
    "B.union(A)"
   ]
  },
  {
   "cell_type": "code",
   "execution_count": 16,
   "id": "fd2b49b6",
   "metadata": {},
   "outputs": [
    {
     "data": {
      "text/plain": [
       "{1, 2, 3, 4, 5, 6, 7, 8, 9, 10}"
      ]
     },
     "execution_count": 16,
     "metadata": {},
     "output_type": "execute_result"
    }
   ],
   "source": [
    "A.union(B,C)"
   ]
  },
  {
   "cell_type": "code",
   "execution_count": 19,
   "id": "20f2057e",
   "metadata": {},
   "outputs": [],
   "source": [
    "A={1,2,3,4,4,5}\n",
    "B={4,4,5,6,7,8}"
   ]
  },
  {
   "cell_type": "code",
   "execution_count": 20,
   "id": "0caf3b0b",
   "metadata": {},
   "outputs": [
    {
     "data": {
      "text/plain": [
       "{4, 5}"
      ]
     },
     "execution_count": 20,
     "metadata": {},
     "output_type": "execute_result"
    }
   ],
   "source": [
    "A.intersection(B)"
   ]
  },
  {
   "cell_type": "code",
   "execution_count": 21,
   "id": "a3b339fc",
   "metadata": {},
   "outputs": [
    {
     "data": {
      "text/plain": [
       "{1, 2, 3}"
      ]
     },
     "execution_count": 21,
     "metadata": {},
     "output_type": "execute_result"
    }
   ],
   "source": [
    "A.difference(B)"
   ]
  },
  {
   "cell_type": "code",
   "execution_count": 22,
   "id": "7fed400c",
   "metadata": {},
   "outputs": [
    {
     "data": {
      "text/plain": [
       "{6, 7, 8}"
      ]
     },
     "execution_count": 22,
     "metadata": {},
     "output_type": "execute_result"
    }
   ],
   "source": [
    "B.difference(A)"
   ]
  },
  {
   "cell_type": "code",
   "execution_count": 23,
   "id": "2f713aae",
   "metadata": {},
   "outputs": [
    {
     "data": {
      "text/plain": [
       "{}"
      ]
     },
     "execution_count": 23,
     "metadata": {},
     "output_type": "execute_result"
    }
   ],
   "source": [
    "#Dictionary\n",
    "#Task: Create a Dictonary and store full address\n",
    "d={}\n",
    "d"
   ]
  },
  {
   "cell_type": "code",
   "execution_count": 1,
   "id": "8d4a4c4a",
   "metadata": {},
   "outputs": [],
   "source": [
    "Address={ 'HNO':'#1',\n",
    "        }\n"
   ]
  },
  {
   "cell_type": "code",
   "execution_count": 6,
   "id": "573217e5",
   "metadata": {},
   "outputs": [
    {
     "ename": "TypeError",
     "evalue": "'tuple' object is not callable",
     "output_type": "error",
     "traceback": [
      "\u001b[1;31m---------------------------------------------------------------------------\u001b[0m",
      "\u001b[1;31mTypeError\u001b[0m                                 Traceback (most recent call last)",
      "Cell \u001b[1;32mIn[6], line 4\u001b[0m\n\u001b[0;32m      1\u001b[0m \u001b[38;5;66;03m#Add and Remove and Change\u001b[39;00m\n\u001b[0;32m      2\u001b[0m \u001b[38;5;66;03m#Task: read 3 integer elements using input() from user and store them in \u001b[39;00m\n\u001b[0;32m      3\u001b[0m \u001b[38;5;66;03m#list and find out which is the biggest num\u001b[39;00m\n\u001b[1;32m----> 4\u001b[0m \u001b[38;5;28minput\u001b[39m\u001b[38;5;241m=\u001b[39m\u001b[38;5;28mint\u001b[39m(\u001b[38;5;28minput\u001b[39m(\u001b[38;5;124m'\u001b[39m\u001b[38;5;124mEnter the value\u001b[39m\u001b[38;5;124m'\u001b[39m))\n\u001b[0;32m      5\u001b[0m \u001b[38;5;28minput\u001b[39m\n",
      "\u001b[1;31mTypeError\u001b[0m: 'tuple' object is not callable"
     ]
    }
   ],
   "source": [
    "#Add and Remove and Change\n"
   ]
  },
  {
   "cell_type": "code",
   "execution_count": 13,
   "id": "c4e74a67",
   "metadata": {},
   "outputs": [],
   "source": [
    "#('Enter the name','Enter the profession', 'Enter the email')\n",
    "#print(myset)\n"
   ]
  },
  {
   "cell_type": "code",
   "execution_count": 17,
   "id": "50c784f4",
   "metadata": {},
   "outputs": [],
   "source": [
    "myset1={}"
   ]
  },
  {
   "cell_type": "code",
   "execution_count": 18,
   "id": "fb504dfb",
   "metadata": {},
   "outputs": [],
   "source": [
    "myset=set()\n"
   ]
  },
  {
   "cell_type": "code",
   "execution_count": 2,
   "id": "b4a13cc5",
   "metadata": {},
   "outputs": [
    {
     "name": "stdout",
     "output_type": "stream",
     "text": [
      "30 Total\n"
     ]
    }
   ],
   "source": [
    "cart={1:{'name':\"A\",'price':10},2:{'name':\"B\",'price':20}}\n",
    "total=0\n",
    "for item in cart:\n",
    "      for i in cart[item]:\n",
    "            if i=='price':\n",
    "                total=total+cart[item][i]\n",
    "print(total,\"Total\")"
   ]
  },
  {
   "cell_type": "code",
   "execution_count": 2,
   "id": "83b58845",
   "metadata": {},
   "outputs": [
    {
     "name": "stdout",
     "output_type": "stream",
     "text": [
      "List of integers:\n",
      "[1, 2, 3, 4, 5, 6, 7, 8, 9]\n",
      "Extract prime numbers of the list:\n",
      "[2, 3]\n"
     ]
    }
   ],
   "source": [
    "\n",
    "\n",
    "def prime(n):\n",
    "    if n<=1:\n",
    "        return False\n",
    "    if n<=3:\n",
    "        return True\n",
    "    if n%2==0 or n%3==0:\n",
    "        return False\n",
    "    i=5\n",
    "    while i*i<=n:\n",
    "        if n%i==0 or n%(i+2)==0:\n",
    "            return False\n",
    "        i+=6\n",
    "        return True\n",
    "    \n",
    "numbers=[1,2,3,4,5,6,7,8,9]\n",
    "print('List of integers:')\n",
    "print(numbers)\n",
    "\n",
    "primenumbers=list(filter(prime,numbers))\n",
    "print('Extract prime numbers of the list:')\n",
    "print(primenumbers)"
   ]
  },
  {
   "cell_type": "code",
   "execution_count": null,
   "id": "70644957",
   "metadata": {},
   "outputs": [],
   "source": []
  }
 ],
 "metadata": {
  "kernelspec": {
   "display_name": "Python 3 (ipykernel)",
   "language": "python",
   "name": "python3"
  },
  "language_info": {
   "codemirror_mode": {
    "name": "ipython",
    "version": 3
   },
   "file_extension": ".py",
   "mimetype": "text/x-python",
   "name": "python",
   "nbconvert_exporter": "python",
   "pygments_lexer": "ipython3",
   "version": "3.11.5"
  }
 },
 "nbformat": 4,
 "nbformat_minor": 5
}
