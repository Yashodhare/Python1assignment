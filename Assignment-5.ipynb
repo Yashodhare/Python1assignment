{
 "cells": [
  {
   "cell_type": "markdown",
   "id": "f373b057",
   "metadata": {},
   "source": [
    "## String Creation and Concatination"
   ]
  },
  {
   "cell_type": "code",
   "execution_count": 25,
   "id": "23a7dbc0",
   "metadata": {},
   "outputs": [
    {
     "name": "stdout",
     "output_type": "stream",
     "text": [
      "Enter the First string: Dore\n",
      "Enter the Second string: mon\n",
      "The concatination of a given string is: Doremon\n"
     ]
    }
   ],
   "source": [
    "input_string1=input('Enter the First string: ')\n",
    "input_string2=input('Enter the Second string: ')\n",
    "input_string3=input_string1+input_string2\n",
    "print('The concatination of a given string is:',input_string3)\n",
    "\n",
    "\n",
    "\n",
    "\n",
    "\n",
    "\n",
    "\n",
    "#s1='Hello'\n",
    "#s2='World'\n",
    "#s3=s1+'-'+s2\n",
    "#s3"
   ]
  },
  {
   "cell_type": "code",
   "execution_count": 1,
   "id": "4726f8e8",
   "metadata": {},
   "outputs": [
    {
     "name": "stdout",
     "output_type": "stream",
     "text": [
      "enter the desired specific length:KEONICS\n",
      "KEONICS\n"
     ]
    }
   ],
   "source": [
    "# Create a program to generate a random string of a specific length.\n",
    "\n",
    "str=input(\"enter the desired specific length:\")\n",
    "print(str)"
   ]
  },
  {
   "cell_type": "markdown",
   "id": "ed1f9e72",
   "metadata": {},
   "source": [
    "## String manupulational"
   ]
  },
  {
   "cell_type": "code",
   "execution_count": 2,
   "id": "aa0069c5",
   "metadata": {},
   "outputs": [
    {
     "name": "stdout",
     "output_type": "stream",
     "text": [
      "Enter a string: Hello World\n",
      "Reversed string: dlroW olleH\n"
     ]
    }
   ],
   "source": [
    "# Write a program to reverse a given string\n",
    "\n",
    "\n",
    "def reverse_string(input_string):\n",
    "    return input_string[::-1]\n",
    "\n",
    "\n",
    "input_string = input(\"Enter a string: \")\n",
    "\n",
    "\n",
    "reversed_string = reverse_string(input_string)\n",
    "print(\"Reversed string:\", reversed_string)"
   ]
  },
  {
   "cell_type": "code",
   "execution_count": 3,
   "id": "d19d1471",
   "metadata": {},
   "outputs": [
    {
     "name": "stdout",
     "output_type": "stream",
     "text": [
      "Enter a string: My name is Nisha\n",
      "String without vowels: My nm s Nsh\n"
     ]
    }
   ],
   "source": [
    "# Design a program to remove all vowels from a given string\n",
    "\n",
    "\n",
    "input_string = input(\"Enter a string: \")\n",
    "\n",
    "\n",
    "without_vowels = ''.join([char for char in input_string if char.lower() not in 'aeiou'])\n",
    "\n",
    "\n",
    "print(\"String without vowels:\", without_vowels)"
   ]
  },
  {
   "cell_type": "code",
   "execution_count": 5,
   "id": "49118d8b",
   "metadata": {},
   "outputs": [
    {
     "name": "stdout",
     "output_type": "stream",
     "text": [
      "Enter a sentence: welcome to disney\n",
      "Title Case Sentence: Welcome To Disney\n"
     ]
    }
   ],
   "source": [
    "# Create a program to convert the first letter of each word in a sentence to uppercase. \n",
    "\n",
    "input_sentence = input(\"Enter a sentence: \")\n",
    "\n",
    "\n",
    "title_case_sentence = input_sentence.title()\n",
    "\n",
    "\n",
    "print(\"Title Case Sentence:\", title_case_sentence)"
   ]
  },
  {
   "cell_type": "markdown",
   "id": "4f2e4474",
   "metadata": {},
   "source": [
    "## String searching and Counting"
   ]
  },
  {
   "cell_type": "code",
   "execution_count": 3,
   "id": "02443241",
   "metadata": {},
   "outputs": [
    {
     "name": "stdout",
     "output_type": "stream",
     "text": [
      "Enter a sentence: My World\n",
      "Enter a word to check for: My\n"
     ]
    },
    {
     "data": {
      "text/plain": [
       "False"
      ]
     },
     "execution_count": 3,
     "metadata": {},
     "output_type": "execute_result"
    }
   ],
   "source": [
    "# Write a program to check if a specific word is present in a given sentence.\n",
    "\n",
    "input_sentence = input(\"Enter a sentence: \")\n",
    "\n",
    "word_to_check = input(\"Enter a word to check for: \")\n",
    "\n",
    "'with' in word_to_check"
   ]
  },
  {
   "cell_type": "code",
   "execution_count": 4,
   "id": "9edf80d1",
   "metadata": {},
   "outputs": [
    {
     "name": "stdout",
     "output_type": "stream",
     "text": [
      "Enter a string: My new world\n",
      "Enter a character to count: new\n",
      "The character 'new' appears 1 times in the string.\n"
     ]
    }
   ],
   "source": [
    "# Design a program to count the number of occurrences of a specific character in a string.\n",
    "input_string = input(\"Enter a string: \")\n",
    "\n",
    "\n",
    "char_to_count = input(\"Enter a character to count: \")\n",
    "\n",
    "\n",
    "count = input_string.count(char_to_count)\n",
    "\n",
    "\n",
    "print(f\"The character '{char_to_count}' appears {count} times in the string.\")"
   ]
  },
  {
   "cell_type": "markdown",
   "id": "8bbc3bfe",
   "metadata": {},
   "source": [
    "## String Functions"
   ]
  },
  {
   "cell_type": "code",
   "execution_count": 15,
   "id": "908203af",
   "metadata": {},
   "outputs": [
    {
     "name": "stdout",
     "output_type": "stream",
     "text": [
      "Enter the string:Monday Tuesday Wednesday Thursday Friday Saturday Sunday\n",
      "['Monday', 'Tuesday', 'Wednesday', 'Thursday', 'Friday', 'Saturday', 'Sunday']\n"
     ]
    }
   ],
   "source": [
    "input_string=input('Enter the string:')\n",
    "print(input_string.split())\n",
    "#mystr3='Monday Tuesday Wednesday Thursday Friday Monday Saturday Wednesday'\n",
    "#print(mystr3.split()) "
   ]
  },
  {
   "cell_type": "code",
   "execution_count": 19,
   "id": "b216e220",
   "metadata": {},
   "outputs": [
    {
     "name": "stdout",
     "output_type": "stream",
     "text": [
      "Concatenated sentence: We are together Bulletproof\n"
     ]
    }
   ],
   "source": [
    "# Design a program to concatenate a list of strings into a sentence using the join() function.\n",
    "\n",
    "Input_string = [\"We\", \"are\", \"together\", \"Bulletproof\"]\n",
    "\n",
    "\n",
    "sentence = \" \".join(Input_string)\n",
    "\n",
    "\n",
    "print(\"Concatenated sentence:\",sentence)\n",
    "\n",
    "#print(mystr2.join('........'))"
   ]
  },
  {
   "cell_type": "code",
   "execution_count": 21,
   "id": "17532956",
   "metadata": {},
   "outputs": [
    {
     "name": "stdout",
     "output_type": "stream",
     "text": [
      "Enter a sentence: In my new World\n",
      "Enter the word to replace: World\n",
      "Enter the replacement word: Universe\n",
      "Modified sentence: In my new Universe\n"
     ]
    }
   ],
   "source": [
    "# Create a program to replace a specific word in a sentence with another word using the replace() function.\n",
    "\n",
    "input_string = input(\"Enter a sentence: \")\n",
    "\n",
    "\n",
    "word_to_replace = input(\"Enter the word to replace: \")\n",
    "\n",
    "\n",
    "replacement_word = input(\"Enter the replacement word: \")\n",
    "\n",
    "\n",
    "new_string = input_string.replace(word_to_replace, replacement_word)\n",
    "\n",
    "\n",
    "print(\"Modified sentence:\",new_string)\n",
    "\n",
    "\n",
    "\n",
    "\n",
    "#print(mystr2.replace('all','you'))"
   ]
  },
  {
   "cell_type": "markdown",
   "id": "4e12a727",
   "metadata": {},
   "source": [
    "## String Slicing and Counting"
   ]
  },
  {
   "cell_type": "code",
   "execution_count": 2,
   "id": "51ae6f53",
   "metadata": {},
   "outputs": [
    {
     "name": "stdout",
     "output_type": "stream",
     "text": [
      "Enter a string: In my new world\n",
      "First three characters: In \n",
      "Last three characters: rld\n"
     ]
    }
   ],
   "source": [
    "# Write a program to extract the first three and last three characters from a given string.\n",
    "\n",
    "\n",
    "input_string = input(\"Enter a string: \")\n",
    "\n",
    "\n",
    "first_three = input_string[:3]\n",
    "\n",
    "\n",
    "last_three = input_string[-3:]\n",
    "\n",
    "print(f\"First three characters: {first_three}\")\n",
    "print(f\"Last three characters: {last_three}\") "
   ]
  },
  {
   "cell_type": "code",
   "execution_count": 13,
   "id": "c596931f",
   "metadata": {},
   "outputs": [
    {
     "name": "stdout",
     "output_type": "stream",
     "text": [
      "Enter your name: nisha\n",
      "Enter your age: 22\n",
      "Hello, nisha! You are 22 years old\n"
     ]
    }
   ],
   "source": [
    "# Create a program that takes a user's name and age as input and prints a message using string formatting.\n",
    "\n",
    "\n",
    "name = input(\"Enter your name: \")\n",
    "\n",
    "\n",
    "age = input(\"Enter your age: \")\n",
    "\n",
    "\n",
    "print('Hello, {}! You are {} years old'.format(name,age))\n",
    "\n",
    "\n"
   ]
  },
  {
   "cell_type": "code",
   "execution_count": 118,
   "id": "fb3b2a16",
   "metadata": {},
   "outputs": [
    {
     "name": "stdout",
     "output_type": "stream",
     "text": [
      "a:5\n",
      "odd\n"
     ]
    }
   ],
   "source": [
    "\n",
    "#module\n",
    "a=int(input('a:'))\n",
    "# c=a % 2\n",
    "if a%2: \n",
    "    print('odd')\n",
    "else :\n",
    "        print('even')\n",
    "    "
   ]
  },
  {
   "cell_type": "code",
   "execution_count": 119,
   "id": "ff19a524",
   "metadata": {},
   "outputs": [
    {
     "name": "stdout",
     "output_type": "stream",
     "text": [
      "2\n"
     ]
    }
   ],
   "source": [
    "#Division (floor)\n",
    "c=a//2\n",
    "print(c)"
   ]
  },
  {
   "cell_type": "code",
   "execution_count": 120,
   "id": "55df36d7",
   "metadata": {},
   "outputs": [
    {
     "name": "stdout",
     "output_type": "stream",
     "text": [
      "Else condition got executed\n"
     ]
    }
   ],
   "source": [
    "#if condition\n",
    "x=3\n",
    "if x==5:\n",
    "    print('The if condition is true')\n",
    "else:\n",
    "    print('Else condition got executed')"
   ]
  },
  {
   "cell_type": "code",
   "execution_count": 122,
   "id": "910a20d2",
   "metadata": {},
   "outputs": [
    {
     "name": "stdout",
     "output_type": "stream",
     "text": [
      "Enter a num5\n",
      "5 is odd\n"
     ]
    }
   ],
   "source": [
    "#Task: Find te iven num is even  or odd using if-else\n",
    "a=int(input('Enter a num'))\n",
    "if a%2:\n",
    "    print('{} is odd'.format(a))\n",
    "    \n",
    "else :\n",
    "    print('{} is even'.format(a))"
   ]
  },
  {
   "cell_type": "code",
   "execution_count": 19,
   "id": "0d6f7f80",
   "metadata": {},
   "outputs": [
    {
     "name": "stdout",
     "output_type": "stream",
     "text": [
      "y is big\n"
     ]
    }
   ],
   "source": [
    "x=2\n",
    "y=4\n",
    "z=1\n",
    "if (x>y):\n",
    "    print(' x is big')\n",
    "elif(y>z):\n",
    "    print('y is big')\n",
    "else:\n",
    "    print('z is big')\n",
    "              \n"
   ]
  },
  {
   "cell_type": "code",
   "execution_count": 7,
   "id": "a88156b9",
   "metadata": {},
   "outputs": [
    {
     "name": "stdout",
     "output_type": "stream",
     "text": [
      "Enter the num45\n",
      "Enter the num76\n",
      "Enter the num83\n",
      "c is large\n"
     ]
    }
   ],
   "source": [
    "a=int(input('Enter the num'))\n",
    "b=int(input('Enter the num'))\n",
    "c=int(input('Enter the num'))\n",
    "if(a>b):\n",
    "    print('a is large')\n",
    "elif(b>c):\n",
    "    print('b is large')\n",
    "else:\n",
    "    print('c is large')"
   ]
  },
  {
   "cell_type": "code",
   "execution_count": 17,
   "id": "5d43f9d5",
   "metadata": {},
   "outputs": [
    {
     "name": "stdout",
     "output_type": "stream",
     "text": [
      "A25\n",
      "B21\n",
      "C15\n",
      "The laregest of numbers among 25,21,and 15 is 25\n"
     ]
    }
   ],
   "source": [
    "a=int(input('A'))\n",
    "b=int(input('B'))\n",
    "c=int(input('C'))\n",
    "if a>=b and a>=c:\n",
    "    large=a\n",
    "elif b>=a and b>=c:\n",
    "    large=b\n",
    "else :\n",
    "    large=c\n",
    "print('The laregest of numbers among {},{},and {} is {}'.format(a,b,c,large))\n"
   ]
  },
  {
   "cell_type": "code",
   "execution_count": 1,
   "id": "a47b28e6",
   "metadata": {},
   "outputs": [],
   "source": [
    "dic={}"
   ]
  },
  {
   "cell_type": "code",
   "execution_count": 4,
   "id": "3fe0f4e6",
   "metadata": {},
   "outputs": [
    {
     "ename": "TypeError",
     "evalue": "'str' object is not callable",
     "output_type": "error",
     "traceback": [
      "\u001b[1;31m---------------------------------------------------------------------------\u001b[0m",
      "\u001b[1;31mTypeError\u001b[0m                                 Traceback (most recent call last)",
      "Cell \u001b[1;32mIn[4], line 2\u001b[0m\n\u001b[0;32m      1\u001b[0m dic\u001b[38;5;241m=\u001b[39m{\u001b[38;5;124m\"\u001b[39m\u001b[38;5;124mname\u001b[39m\u001b[38;5;124m\"\u001b[39m:\u001b[38;5;124m'\u001b[39m\u001b[38;5;124m20\u001b[39m\u001b[38;5;124m'\u001b[39m,\u001b[38;5;124m\"\u001b[39m\u001b[38;5;124mclass\u001b[39m\u001b[38;5;124m\"\u001b[39m:\u001b[38;5;124m'\u001b[39m\u001b[38;5;124m30\u001b[39m\u001b[38;5;124m'\u001b[39m}\n\u001b[1;32m----> 2\u001b[0m \u001b[38;5;28mmax\u001b[39m\u001b[38;5;241m=\u001b[39m\u001b[38;5;28mmax\u001b[39m(dic\u001b[38;5;241m.\u001b[39mvalues())\n\u001b[0;32m      3\u001b[0m \u001b[38;5;28mmax\u001b[39m\n",
      "\u001b[1;31mTypeError\u001b[0m: 'str' object is not callable"
     ]
    }
   ],
   "source": [
    "dic={\"name\":'20',\"class\":'30'}\n",
    "max=max(dic.values())\n",
    "max"
   ]
  },
  {
   "cell_type": "code",
   "execution_count": null,
   "id": "507f622e",
   "metadata": {},
   "outputs": [],
   "source": []
  }
 ],
 "metadata": {
  "kernelspec": {
   "display_name": "Python 3 (ipykernel)",
   "language": "python",
   "name": "python3"
  },
  "language_info": {
   "codemirror_mode": {
    "name": "ipython",
    "version": 3
   },
   "file_extension": ".py",
   "mimetype": "text/x-python",
   "name": "python",
   "nbconvert_exporter": "python",
   "pygments_lexer": "ipython3",
   "version": "3.11.5"
  }
 },
 "nbformat": 4,
 "nbformat_minor": 5
}
