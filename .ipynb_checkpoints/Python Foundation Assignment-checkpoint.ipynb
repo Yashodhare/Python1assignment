{
 "cells": [
  {
   "cell_type": "markdown",
   "id": "f79c787d",
   "metadata": {},
   "source": [
    "##### Weekly Assignment of Ai with Python - Module 1. 04-11-2023\n",
    "Last date of submission: 06-11-2023\n",
    "______________________________________________________________________________"
   ]
  },
  {
   "cell_type": "markdown",
   "id": "c1aefece",
   "metadata": {},
   "source": [
    "##### 1. Write a Python program which accepts a sequence of comma-separated numbers from user and generate a list  with those numbers"
   ]
  },
  {
   "cell_type": "code",
   "execution_count": 1,
   "id": "ba966697",
   "metadata": {},
   "outputs": [
    {
     "name": "stdout",
     "output_type": "stream",
     "text": [
      "enter the value of a:12\n",
      "enter the value of b:13\n",
      "enter the value of c:14\n"
     ]
    },
    {
     "data": {
      "text/plain": [
       "['12', '13', '14']"
      ]
     },
     "execution_count": 1,
     "metadata": {},
     "output_type": "execute_result"
    }
   ],
   "source": [
    "#code\n",
    "A=input('enter the value of a:')\n",
    "B=input('enter the value of b:')\n",
    "C=input('enter the value of c:')\n",
    "list1=[A,B,C]\n",
    "list1"
   ]
  },
  {
   "cell_type": "markdown",
   "id": "ca6b692a",
   "metadata": {},
   "source": [
    "##### 2. Write a Python program to accept a filename from the user and print the extension of that"
   ]
  },
  {
   "cell_type": "markdown",
   "id": "59bbbff0",
   "metadata": {},
   "source": []
  },
  {
   "cell_type": "code",
   "execution_count": 2,
   "id": "be5d4d25",
   "metadata": {},
   "outputs": [
    {
     "name": "stdout",
     "output_type": "stream",
     "text": [
      "Enter a filename: python.file\n",
      "File extension: file\n"
     ]
    }
   ],
   "source": [
    "# code\n",
    "# Input from the user\n",
    "filename = input(\"Enter a filename: \")\n",
    "\n",
    "# Split the filename by the dot to get the extension\n",
    "file_extension = filename.split(\".\")[-1]\n",
    "\n",
    "# Print the file extension\n",
    "print(\"File extension:\",file_extension)"
   ]
  },
  {
   "cell_type": "markdown",
   "id": "9e11e99b",
   "metadata": {},
   "source": [
    "##### 3. Write a Python program to display the first and last colors from the following list color_list = [\"yellow\",\"Green\",\"grey\" ,\"orange\"]"
   ]
  },
  {
   "cell_type": "markdown",
   "id": "a1ba0e64",
   "metadata": {},
   "source": []
  },
  {
   "cell_type": "code",
   "execution_count": 5,
   "id": "0ac1a2d2",
   "metadata": {},
   "outputs": [
    {
     "name": "stdout",
     "output_type": "stream",
     "text": [
      "The first color is: yellow\n",
      "The last color is: orange\n"
     ]
    }
   ],
   "source": [
    "#code\n",
    "color_list=[\"yellow\",\"green\",\"grey\",\"orange\"]\n",
    "color_list\n",
    "# Display the first color\n",
    "print(\"The first color is:\",color_list[0])\n",
    "\n",
    "# Display the last color\n",
    "print(\"The last color is:\",color_list[-1])\n"
   ]
  },
  {
   "cell_type": "markdown",
   "id": "2dad21eb",
   "metadata": {},
   "source": [
    "##### 4. Write a program that checks if a given string is a palindrome."
   ]
  },
  {
   "cell_type": "code",
   "execution_count": 7,
   "id": "6497ed5e",
   "metadata": {},
   "outputs": [
    {
     "name": "stdout",
     "output_type": "stream",
     "text": [
      "Enter a string: RADAR\n",
      "The input string is a palindrome.\n"
     ]
    }
   ],
   "source": [
    "# Explain\n",
    "\n",
    "# Code# Input from the user\n",
    "input_string = input(\"Enter a string: \")\n",
    "\n",
    "# Check if the input string is a palindrome\n",
    "if input_string == input_string[::-1]:\n",
    "    print(\"The input string is a palindrome.\")\n",
    "else:\n",
    "    print(\"The input string is not a palindrome.\")\n"
   ]
  },
  {
   "cell_type": "markdown",
   "id": "d0cdc49c",
   "metadata": {},
   "source": [
    "##### 5. Return the count of sub-string “Shubhangi” appears in the given string - \"Shubhangi is good developer. Shubhangi is a Data Scientist\""
   ]
  },
  {
   "cell_type": "code",
   "execution_count": 8,
   "id": "53a722d9",
   "metadata": {},
   "outputs": [
    {
     "name": "stdout",
     "output_type": "stream",
     "text": [
      "The sub-string 'Shubhangi' appears 0 times in the given string.\n"
     ]
    }
   ],
   "source": [
    "# Codeinput_string = \"Shubhangi is good developer. Shubhangi is a Data Scientist\"\n",
    "\n",
    "# Sub-string to search for\n",
    "sub_string = \"Shubhangi\"\n",
    "\n",
    "# Count the occurrences of the sub-string in the input string\n",
    "count = input_string.count(sub_string)\n",
    "\n",
    "# Print the count\n",
    "print(\"The sub-string '{}' appears {} times in the given string.\".format(sub_string,count))"
   ]
  },
  {
   "cell_type": "markdown",
   "id": "656f8722",
   "metadata": {},
   "source": [
    "##### 6. Write a function to calculate area and perimeter of a rectangle."
   ]
  },
  {
   "cell_type": "code",
   "execution_count": 9,
   "id": "10d3cdfa",
   "metadata": {},
   "outputs": [
    {
     "name": "stdout",
     "output_type": "stream",
     "text": [
      "Enter the length of the rectangle: 8\n",
      "Enter the width of the rectangle: 10\n",
      "Area of the rectangle: 80\n",
      "Perimeter of the rectangle: 36\n"
     ]
    }
   ],
   "source": [
    "# code\n",
    "def calculate_rectangle_area(length, width):\n",
    "    area = length * width\n",
    "    return area\n",
    "\n",
    "def calculate_rectangle_perimeter(length, width):\n",
    "    perimeter = 2 * (length + width)\n",
    "    return perimeter\n",
    "\n",
    "# Input the length and width of the rectangle\n",
    "length = int(input(\"Enter the length of the rectangle: \"))\n",
    "width = int(input(\"Enter the width of the rectangle: \"))\n",
    "\n",
    "# Calculate and print the area and perimeter\n",
    "area = calculate_rectangle_area(length, width)\n",
    "perimeter = calculate_rectangle_perimeter(length, width)\n",
    "\n",
    "print(\"Area of the rectangle:\",area)\n",
    "print(\"Perimeter of the rectangle:\",perimeter)"
   ]
  },
  {
   "cell_type": "markdown",
   "id": "1ab8a2b4",
   "metadata": {},
   "source": [
    "##### 7. Write a function to tell user if he/she is able to vote or not."
   ]
  },
  {
   "cell_type": "code",
   "execution_count": 10,
   "id": "654deec1",
   "metadata": {},
   "outputs": [
    {
     "name": "stdout",
     "output_type": "stream",
     "text": [
      "Enter your age:23\n",
      "You are eligible to vote.\n"
     ]
    }
   ],
   "source": [
    "# code\n",
    "def check_voting_eligibility(age):\n",
    "    if age >= 18:\n",
    "        return \"You are eligible to vote.\"\n",
    "    else:\n",
    "        return \"You are not eligible to vote yet.\"\n",
    "\n",
    "# Input the user's age\n",
    "age = int(input(\"Enter your age:\"))\n",
    "\n",
    "# Check and print voting eligibility\n",
    "result = check_voting_eligibility(age)\n",
    "print(result)"
   ]
  },
  {
   "cell_type": "markdown",
   "id": "89e51169",
   "metadata": {},
   "source": [
    "##### 8. Write a program to check if each word in a string begins with a capital letter?"
   ]
  },
  {
   "cell_type": "code",
   "execution_count": 11,
   "id": "72ecd168",
   "metadata": {},
   "outputs": [
    {
     "name": "stdout",
     "output_type": "stream",
     "text": [
      "Enter a sentence: World of Fantasy\n",
      "Not all words in the sentence start with a capital letter.\n"
     ]
    }
   ],
   "source": [
    "# code\n",
    "# Input from the user\n",
    "sentence = input(\"Enter a sentence: \")\n",
    "\n",
    "# Split the sentence into words\n",
    "words = sentence.split()\n",
    "\n",
    "# Initialize a flag to assume all words start with a capital letter\n",
    "all_words_start_with_capital = True\n",
    "\n",
    "# Check each word in the list\n",
    "for word in words:\n",
    "    if not word[0].isupper():\n",
    "        all_words_start_with_capital = False\n",
    "\n",
    "# Print the result\n",
    "if all_words_start_with_capital:\n",
    "    print(\"All words in the sentence start with a capital letter.\")\n",
    "else:\n",
    "    print(\"Not all words in the sentence start with a capital letter.\") "
   ]
  },
  {
   "cell_type": "markdown",
   "id": "e443e3f6",
   "metadata": {},
   "source": [
    "##### 9. Write a program to Check if a string contains a specific substring."
   ]
  },
  {
   "cell_type": "code",
   "execution_count": 7,
   "id": "94c4172d",
   "metadata": {},
   "outputs": [
    {
     "name": "stdout",
     "output_type": "stream",
     "text": [
      "Enter a main string: John is good at singing\n",
      "Enter a substring to search for: good\n",
      "The main string contains the substring 'good'.\n"
     ]
    }
   ],
   "source": [
    "# code\n",
    "# Input from the user\n",
    "mainstring = input(\"Enter a main string: \")\n",
    "substring = input(\"Enter a substring to search for: \")\n",
    "\n",
    "# Check if the substring is present in the main string\n",
    "if substring in mainstring:\n",
    "    print(f\"The main string contains the substring '{substring}'.\")\n",
    "else:\n",
    "    print(f\"The main string does not contain the substring '{substring}'.\")"
   ]
  },
  {
   "cell_type": "markdown",
   "id": "8bfc4227",
   "metadata": {},
   "source": [
    "##### 10. Capitalize the first character of a string"
   ]
  },
  {
   "cell_type": "code",
   "execution_count": 30,
   "id": "209e5dee",
   "metadata": {},
   "outputs": [
    {
     "name": "stdout",
     "output_type": "stream",
     "text": [
      "Enter a sentence: world of fantasy\n",
      "Title Case Sentence: World Of Fantasy\n"
     ]
    }
   ],
   "source": [
    "# code\n",
    "input_sentence = input(\"Enter a sentence: \")\n",
    "\n",
    "\n",
    "title_case_sentence = input_sentence.title()\n",
    "\n",
    "\n",
    "print(\"Title Case Sentence:\", title_case_sentence)"
   ]
  },
  {
   "cell_type": "markdown",
   "id": "5d18bf6d",
   "metadata": {},
   "source": [
    "##### 11. Reverse the string “hello world”"
   ]
  },
  {
   "cell_type": "code",
   "execution_count": 12,
   "id": "0360a988",
   "metadata": {},
   "outputs": [
    {
     "name": "stdout",
     "output_type": "stream",
     "text": [
      "Original string: Hello World\n",
      "Reversed string: dlroW olleH\n"
     ]
    }
   ],
   "source": [
    "# code\n",
    "#11 reversing the string\n",
    "str1='Hello World'\n",
    "str1\n",
    "str1[-1:-12:-1] \n",
    "# Input string\n",
    "input_string = \"Hello World\"\n",
    "\n",
    "# Reverse the string\n",
    "reversed_string = input_string[::-1]\n",
    "# Print the reversed string\n",
    "print(\"Original string:\",input_string)\n",
    "print(\"Reversed string:\",reversed_string)"
   ]
  },
  {
   "cell_type": "markdown",
   "id": "f778734e",
   "metadata": {},
   "source": [
    "##### 12. Write a program to display the last digit of a number. (hint : any number % 10 will return the last digit)"
   ]
  },
  {
   "cell_type": "code",
   "execution_count": 13,
   "id": "63cadf9d",
   "metadata": {},
   "outputs": [
    {
     "name": "stdout",
     "output_type": "stream",
     "text": [
      "Enter a number: 234\n",
      "The last digit of the number is: 4\n"
     ]
    }
   ],
   "source": [
    "# code\n",
    "# Input from the user\n",
    "number = int(input(\"Enter a number: \"))\n",
    "\n",
    "# Calculate and print the last digit\n",
    "last_digit = number % 10\n",
    "print(\"The last digit of the number is:\",last_digit)\n"
   ]
  },
  {
   "cell_type": "markdown",
   "id": "c622d0a6",
   "metadata": {},
   "source": [
    "##### 13. Write a program to check whether an years is leap year or not."
   ]
  },
  {
   "cell_type": "code",
   "execution_count": 14,
   "id": "4993c332",
   "metadata": {},
   "outputs": [
    {
     "name": "stdout",
     "output_type": "stream",
     "text": [
      "Enter a year: 2024\n",
      "2024 is a leap year\n"
     ]
    }
   ],
   "source": [
    "# code\n",
    "year = int(input(\"Enter a year: \"))\n",
    "\n",
    "if (year % 4 == 0 and year % 100 != 0) or (year % 400 == 0):\n",
    "    print(f\"{year} is a leap year\")\n",
    "else:\n",
    "    print(f\"{year} is not a leap year\")"
   ]
  },
  {
   "cell_type": "markdown",
   "id": "9a18d59f",
   "metadata": {},
   "source": [
    "##### 14. Write a program to accept a number from 1 to 7 and display the name of the day like 1 for Sunday , 2 for Monday and so on."
   ]
  },
  {
   "cell_type": "code",
   "execution_count": 15,
   "id": "3efedefa",
   "metadata": {},
   "outputs": [
    {
     "name": "stdout",
     "output_type": "stream",
     "text": [
      "Enter a number from 1 to 7: 4\n",
      "The day is Wednesday\n"
     ]
    }
   ],
   "source": [
    "# code\n",
    "day_number = int(input(\"Enter a number from 1 to 7: \"))\n",
    "\n",
    "# Define a list of days\n",
    "days = [\"Sunday\", \"Monday\", \"Tuesday\", \"Wednesday\", \"Thursday\", \"Friday\", \"Saturday\"]\n",
    "\n",
    "# Check if the input is within the valid range\n",
    "if 1 <= day_number <= 7:\n",
    "    # Display the day corresponding to the input\n",
    "    print(\"The day is\", days[day_number - 1])\n",
    "else:\n",
    "    print(\"Invalid input. Please enter a number from 1 to 7.\") "
   ]
  },
  {
   "cell_type": "markdown",
   "id": "8c7524de",
   "metadata": {},
   "source": [
    "##### 15. Write a program to check whether a number (accepted from user) is positive or negative."
   ]
  },
  {
   "cell_type": "code",
   "execution_count": 16,
   "id": "5e7316e3",
   "metadata": {},
   "outputs": [
    {
     "name": "stdout",
     "output_type": "stream",
     "text": [
      "Enter a number: 2\n",
      "The number is positive\n"
     ]
    }
   ],
   "source": [
    "# code\n",
    "# Input from the user\n",
    "number = float(input(\"Enter a number: \"))\n",
    "\n",
    "# Check if the number is positive or negative\n",
    "if number > 0:\n",
    "    print(\"The number is positive\")\n",
    "else :\n",
    "    print(\"The number is negative\")"
   ]
  },
  {
   "cell_type": "markdown",
   "id": "e76ce83f",
   "metadata": {},
   "source": [
    "##### 16. Write a program to whether a number (accepted from user) is divisible by 2 and 3 both."
   ]
  },
  {
   "cell_type": "code",
   "execution_count": 17,
   "id": "7398377e",
   "metadata": {},
   "outputs": [
    {
     "name": "stdout",
     "output_type": "stream",
     "text": [
      "Enter a number: 6\n",
      "The number is divisible by both 2 and 3\n"
     ]
    }
   ],
   "source": [
    "# code\n",
    "# Input from the user\n",
    "number = int(input(\"Enter a number: \"))\n",
    "\n",
    "# Check if the number is divisible by both 2 and 3\n",
    "if number % 2 == 0 and number % 3 == 0:\n",
    "    print(\"The number is divisible by both 2 and 3\")\n",
    "else:\n",
    "    print(\"The number is not divisible by both 2 and 3\")"
   ]
  },
  {
   "cell_type": "markdown",
   "id": "f5e3e15f",
   "metadata": {},
   "source": [
    "# List\n",
    "Basic List Operations:\n",
    "\n",
    "Create an empty list.\n",
    "Add an element to the end of the list.\n",
    "Insert an element at a specific position in the list.\n",
    "Remove an element from the list.\n",
    "Check if an element is present in the list.\n",
    "List Slicing and Indexing:\n",
    "\n",
    "Print the first element of the list.\n",
    "Print the last element of the list.\n",
    "Print elements from index 2 to 5 (exclusive) using slicing.\n",
    "Print every alternate element of the list.\n",
    "List Functions:\n",
    "\n",
    "Find the length of the list.\n",
    "Sort the list in ascending order.\n",
    "Reverse the list.\n",
    "Remove the last element from the list.\n",
    "Clear all elements from the list.\n",
    "List Comprehension:\n",
    "\n",
    "Create a new list containing squares of elements from the original list.\n",
    "Create a new list containing only even numbers from the original list.\n",
    "Nested Lists:\n",
    "\n",
    "Create a nested list containing two lists: [1, 2, 3] and ['a', 'b', 'c'].\n",
    "Access the second element of the first list inside the nested list.\n",
    "Modify the third element of the second list inside the nested list.\n",
    "List Methods:\n",
    "\n",
    "Use the append() method to add an element to the end of the list.\n",
    "Use the count() method to count the number of occurrences of a specific element.\n",
    "Use the index() method to find the index of a specific element.\n",
    "Use the remove() method to remove the first occurrence of a specific element.\n",
    "Use the extend() method to add elements from another list to the current list."
   ]
  },
  {
   "cell_type": "markdown",
   "id": "650bf9e4",
   "metadata": {},
   "source": [
    "##### 17. Write a program that takes a list of numbers as input and calculates their sum.\n"
   ]
  },
  {
   "cell_type": "code",
   "execution_count": 2,
   "id": "b79e6bbe",
   "metadata": {},
   "outputs": [
    {
     "data": {
      "text/plain": [
       "[1, 2, 3, 4, 2, 3, 4, 5]"
      ]
     },
     "execution_count": 2,
     "metadata": {},
     "output_type": "execute_result"
    }
   ],
   "source": [
    "# code\n",
    "List1=[1,2,3,4]\n",
    "List2=[2,3,4,5]\n",
    "List3=List1+List2\n",
    "List3\n"
   ]
  },
  {
   "cell_type": "markdown",
   "id": "7be5c366",
   "metadata": {},
   "source": [
    "##### 18. List Modification Initialize a list with elements [2, 4, 6, 8, 10]Append the number 12 to the end of the list. Remove the element 6 from the list. Print the modified list."
   ]
  },
  {
   "cell_type": "code",
   "execution_count": 18,
   "id": "556132e7",
   "metadata": {},
   "outputs": [
    {
     "name": "stdout",
     "output_type": "stream",
     "text": [
      "Modified list: [2, 4, 8, 10, 12]\n"
     ]
    }
   ],
   "source": [
    "# code\n",
    "# Initialize the list\n",
    "List1= [2, 4, 6, 8, 10]\n",
    "\n",
    "# Append the number 12 to the end of the list\n",
    "List1.append(12)\n",
    "\n",
    "# Remove the element 6 from the list\n",
    "List1.remove(6)\n",
    "\n",
    "# Print the modified list\n",
    "print(\"Modified list:\",List1)"
   ]
  },
  {
   "cell_type": "markdown",
   "id": "30007498",
   "metadata": {},
   "source": [
    "##### 19. List Operations Initialize two lists: [1, 2, 3] and [4, 5, 6]. Concatenate these lists without using the + operator. Print the concatenated list."
   ]
  },
  {
   "cell_type": "code",
   "execution_count": 19,
   "id": "d9e8941e",
   "metadata": {},
   "outputs": [
    {
     "name": "stdout",
     "output_type": "stream",
     "text": [
      "Concatenated list: [1, 2, 3, 4, 5, 6]\n"
     ]
    }
   ],
   "source": [
    "# code\n",
    "# Initialize two lists\n",
    "list1 = [1, 2, 3]\n",
    "list2 = [4, 5, 6]\n",
    "\n",
    "# Concatenate the lists using the extend() method\n",
    "list1.extend(list2)\n",
    "\n",
    "# Print the concatenated list\n",
    "print(\"Concatenated list:\",list1)"
   ]
  },
  {
   "cell_type": "markdown",
   "id": "d072d013",
   "metadata": {},
   "source": [
    "### Tuple \n",
    "Python tuples are a type of data structure that is very similar to lists. The main difference between the two is that tuples are immutable, meaning they cannot be changed once they are created. This makes them ideal for storing data that should not be modified, such as database records."
   ]
  },
  {
   "cell_type": "markdown",
   "id": "178e72c4",
   "metadata": {},
   "source": [
    "https://pynative.com/wp-content/uploads/2021/02/python-tuple.jpg"
   ]
  },
  {
   "cell_type": "markdown",
   "id": "cb928e09",
   "metadata": {},
   "source": [
    "##### 20. Create and explain the working of tuple."
   ]
  },
  {
   "cell_type": "code",
   "execution_count": 4,
   "id": "2952de3c",
   "metadata": {},
   "outputs": [
    {
     "data": {
      "text/plain": [
       "(1, 'Kim', 2, 10)"
      ]
     },
     "execution_count": 4,
     "metadata": {},
     "output_type": "execute_result"
    }
   ],
   "source": [
    "#code\n",
    "tup=(1,'Kim',2,10)\n",
    "tup\n"
   ]
  },
  {
   "cell_type": "markdown",
   "id": "a1c66587",
   "metadata": {},
   "source": [
    "##### 21. Initialize and Access Tuple Elements\n",
    "\n",
    "Initialize a tuple with elements (3, 6, 9, 12, 15).\n",
    "Print the second element of the tuple.\n",
    "Attempt to change the value of the second element (this will show that tuples are immutable)."
   ]
  },
  {
   "cell_type": "code",
   "execution_count": 5,
   "id": "2f7f2d08",
   "metadata": {},
   "outputs": [
    {
     "name": "stdout",
     "output_type": "stream",
     "text": [
      "Second element of the tuple: 6\n"
     ]
    },
    {
     "ename": "TypeError",
     "evalue": "'tuple' object does not support item assignment",
     "output_type": "error",
     "traceback": [
      "\u001b[1;31m---------------------------------------------------------------------------\u001b[0m",
      "\u001b[1;31mTypeError\u001b[0m                                 Traceback (most recent call last)",
      "Cell \u001b[1;32mIn[5], line 9\u001b[0m\n\u001b[0;32m      6\u001b[0m \u001b[38;5;28mprint\u001b[39m(\u001b[38;5;124m\"\u001b[39m\u001b[38;5;124mSecond element of the tuple:\u001b[39m\u001b[38;5;124m\"\u001b[39m, tup1[\u001b[38;5;241m1\u001b[39m])\n\u001b[0;32m      8\u001b[0m \u001b[38;5;66;03m# change the value of the second element \u001b[39;00m\n\u001b[1;32m----> 9\u001b[0m tup1[\u001b[38;5;241m1\u001b[39m] \u001b[38;5;241m=\u001b[39m \u001b[38;5;241m7\u001b[39m\n",
      "\u001b[1;31mTypeError\u001b[0m: 'tuple' object does not support item assignment"
     ]
    }
   ],
   "source": [
    "#code\n",
    "# Initialize a tuple\n",
    "tup1 = (3, 6, 9, 12, 15)\n",
    "\n",
    "# Print the second element\n",
    "print(\"Second element of the tuple:\", tup1[1])\n",
    "\n",
    "# change the value of the second element \n",
    "tup1[1] = 7 "
   ]
  },
  {
   "cell_type": "markdown",
   "id": "92da5985",
   "metadata": {},
   "source": [
    "22. Initialize a tuple with elements (7, 2, 9, 5, 1).\n",
    "Find the length of the tuple.\n",
    "Find the index of the element 9.\n",
    "Count the number of occurrences of 2 in the tuple."
   ]
  },
  {
   "cell_type": "code",
   "execution_count": 6,
   "id": "4678c422",
   "metadata": {},
   "outputs": [
    {
     "name": "stdout",
     "output_type": "stream",
     "text": [
      "Length of the tuple: 5\n",
      "Index of the element 9: 2\n",
      "Count of the element 2: 1\n"
     ]
    }
   ],
   "source": [
    "#code\n",
    "# Initialize a tuple\n",
    "tup2 = (7, 2, 9, 5, 1)\n",
    "\n",
    "# Find the length of the tuple\n",
    "length = len(tup2)\n",
    "print(\"Length of the tuple:\",length)\n",
    "\n",
    "# Find the index of the element 9\n",
    "index = tup2.index(9)\n",
    "print(\"Index of the element 9:\",index)\n",
    "\n",
    "# Count the number of occurrences of 2 in the tuple\n",
    "count= tup2.count(2)\n",
    "print(\"Count of the element 2:\",count)"
   ]
  },
  {
   "cell_type": "markdown",
   "id": "4033d394",
   "metadata": {},
   "source": [
    "23. Set Initialization and Operations\n",
    "\n",
    "Initialize two sets: {1, 2, 3, 4, 5} and {3, 4, 5, 6, 7}.\n",
    "Find the union of the two sets.\n",
    "Find the intersection of the two sets.\n",
    "Find the difference between the first set and the second set."
   ]
  },
  {
   "cell_type": "code",
   "execution_count": 23,
   "id": "299679b9",
   "metadata": {},
   "outputs": [
    {
     "name": "stdout",
     "output_type": "stream",
     "text": [
      "Union of the sets: {1, 2, 3, 4, 5, 6, 7}\n",
      "Intersection of the sets: {3, 4, 5}\n",
      "Difference between the sets (set1 - set2): {1, 2}\n"
     ]
    }
   ],
   "source": [
    "#code\n",
    "# Initialize two sets\n",
    "set1 = {1, 2, 3, 4, 5}\n",
    "set2 = {3, 4, 5, 6, 7}\n",
    "\n",
    "# Find the union of the two sets\n",
    "union = set1.union(set2)\n",
    "print(\"Union of the sets:\",union)\n",
    "\n",
    "# Find the intersection of the two sets\n",
    "intersection= set1.intersection(set2)\n",
    "print(\"Intersection of the sets:\", intersection)\n",
    "\n",
    "# Find the difference between the first set and the second set\n",
    "difference = set1.difference(set2)\n",
    "print(\"Difference between the sets (set1 - set2):\",difference)"
   ]
  },
  {
   "cell_type": "markdown",
   "id": "721f0c8e",
   "metadata": {},
   "source": [
    "24. Create a list with duplicate elements [1, 2, 2, 3, 4, 4, 5, 5].\n",
    "Convert the list into a set to remove duplicates.\n",
    "Print the resulting set."
   ]
  },
  {
   "cell_type": "code",
   "execution_count": 24,
   "id": "f2c6f099",
   "metadata": {},
   "outputs": [
    {
     "name": "stdout",
     "output_type": "stream",
     "text": [
      "Set with duplicates removed: {1, 2, 3, 4, 5}\n"
     ]
    }
   ],
   "source": [
    "#code\n",
    "mylist = [1, 2, 2, 3, 4, 4, 5, 5]\n",
    "\n",
    "# Convert the list to a set to remove duplicates\n",
    "set1 = set(mylist)\n",
    "\n",
    "# Print the resulting set\n",
    "print(\"Set with duplicates removed:\",set1)"
   ]
  },
  {
   "cell_type": "markdown",
   "id": "d00c05f8",
   "metadata": {},
   "source": [
    "# Sets\n",
    "The Python sets are highly useful to efficiently remove duplicate values from a collection like a list and to perform common math operations like unions and intersections. Some of the challenges people often encounter are when to use the various data types."
   ]
  },
  {
   "cell_type": "markdown",
   "id": "3828945f",
   "metadata": {},
   "source": [
    "25. Initialize two sets: {1, 2, 3, 4, 5} and {4, 5, 6, 7, 8}.\n",
    "Check if the first set is a subset of the second set.\n",
    "Check if the sets have any common elements."
   ]
  },
  {
   "cell_type": "code",
   "execution_count": 25,
   "id": "857b37c1",
   "metadata": {},
   "outputs": [
    {
     "name": "stdout",
     "output_type": "stream",
     "text": [
      "Set 1 is a subset of Set 2: False\n",
      "The sets have common elements: True\n"
     ]
    }
   ],
   "source": [
    "#code\n",
    "# Initialize two sets\n",
    "set1 = {1, 2, 3, 4, 5}\n",
    "set2 = {4, 5, 6, 7, 8}\n",
    "\n",
    "# Check if the first set is a subset of the second set\n",
    "print(\"Set 1 is a subset of Set 2:\",set1.issubset(set2))\n",
    "\n",
    "# Check if the sets have any common elements\n",
    "print(\"The sets have common elements:\",bool(set1.intersection(set2)))"
   ]
  },
  {
   "cell_type": "markdown",
   "id": "fc39333d",
   "metadata": {},
   "source": [
    "26. Create a list with elements [10, 20, 30, 40, 50].\n",
    "Convert the list into a tuple.\n",
    "Print the tuple."
   ]
  },
  {
   "cell_type": "code",
   "execution_count": 26,
   "id": "a05b7f06",
   "metadata": {},
   "outputs": [
    {
     "name": "stdout",
     "output_type": "stream",
     "text": [
      "Tuple: (10, 20, 30, 40, 50)\n"
     ]
    }
   ],
   "source": [
    "#code\n",
    "# Create a list\n",
    "mylist = [10, 20, 30, 40, 50]\n",
    "\n",
    "# Convert the list to a tuple\n",
    "tup = tuple(mylist)\n",
    "\n",
    "# Print the resulting tuple\n",
    "print(\"Tuple:\",tup)"
   ]
  },
  {
   "cell_type": "markdown",
   "id": "856eb46f",
   "metadata": {},
   "source": [
    "# Dictionary \n",
    "Python dictionaries allow us to associate a value to a unique key, and then to quickly access this value. It's a good idea to use them whenever we want to find (lookup for) a certain Python object. We can also use lists for this scope, but they are much slower than dictionaries.\n"
   ]
  },
  {
   "cell_type": "markdown",
   "id": "d267ab19",
   "metadata": {},
   "source": [
    "https://pynative.com/wp-content/uploads/2021/02/dictionaries-in-python.jpg"
   ]
  },
  {
   "cell_type": "markdown",
   "id": "bd7b606e",
   "metadata": {},
   "source": [
    "##### 27. Create an empty dictionary.\n",
    "Add the key-value pairs: 'apple': 3, 'banana': 5, 'cherry': 2.\n",
    "Modify the value of 'banana' to 8.\n",
    "Remove the key 'cherry' from the dictionary."
   ]
  },
  {
   "cell_type": "code",
   "execution_count": 27,
   "id": "39dfd790",
   "metadata": {},
   "outputs": [
    {
     "name": "stdout",
     "output_type": "stream",
     "text": [
      "Initial dictionary: {'apple': 3, 'banana': 5, 'cherry': 2}\n",
      "Dictionary after modifying 'banana': {'apple': 3, 'banana': 8, 'cherry': 2}\n",
      "Dictionary after removing 'cherry': {'apple': 3, 'banana': 8}\n"
     ]
    }
   ],
   "source": [
    "#code\n",
    "# Create an empty dictionary\n",
    "Dict = {}\n",
    "\n",
    "# Add key-value pairs\n",
    "Dict['apple'] = 3\n",
    "Dict['banana'] = 5\n",
    "Dict['cherry'] = 2\n",
    "\n",
    "# Print the initial dictionary\n",
    "print(\"Initial dictionary:\",Dict)\n",
    "\n",
    "# Modify the value of 'banana' to 8\n",
    "Dict['banana'] = 8\n",
    "\n",
    "# Print the dictionary after modifying 'banana'\n",
    "print(\"Dictionary after modifying 'banana':\",Dict)\n",
    "\n",
    "# Remove the key 'cherry' from the dictionary\n",
    "del Dict['cherry']\n",
    "\n",
    "# Print the dictionary after removing 'cherry'\n",
    "print(\"Dictionary after removing 'cherry':\",Dict)"
   ]
  },
  {
   "cell_type": "markdown",
   "id": "148bd9aa",
   "metadata": {},
   "source": [
    "##### 28. Create a dictionary representing the number of fruits: {'apple': 3, 'banana': 8, 'orange': 6}.\n",
    "Check if 'orange' is a key in the dictionary.\n",
    "Print all keys and values in separate lines."
   ]
  },
  {
   "cell_type": "code",
   "execution_count": 28,
   "id": "8d1297c9",
   "metadata": {},
   "outputs": [
    {
     "name": "stdout",
     "output_type": "stream",
     "text": [
      "'orange' is a key in the dictionary.\n",
      "Keys:\n",
      "apple\n",
      "banana\n",
      "orange\n",
      "Values:\n",
      "3\n",
      "8\n",
      "6\n"
     ]
    }
   ],
   "source": [
    "#code\n",
    "# Create a dictionary representing the number of fruits\n",
    "fruits = {'apple': 3, 'banana': 8, 'orange': 6}\n",
    "\n",
    "# Check if 'orange' is a key in the dictionary\n",
    "if 'orange' in fruits:\n",
    "    print(\"'orange' is a key in the dictionary.\")\n",
    "else:\n",
    "    print(\"'orange' is not a key in the dictionary.\")\n",
    "    \n",
    "# Print all keys in separate lines\n",
    "print(\"Keys:\")\n",
    "for key in fruits:\n",
    "    print(key)\n",
    "\n",
    "# Print all values in separate lines\n",
    "print(\"Values:\")\n",
    "for value in fruits.values():\n",
    "    print(value)"
   ]
  },
  {
   "cell_type": "markdown",
   "id": "7ec450ab",
   "metadata": {},
   "source": [
    "##### 29. Create a dictionary where the keys are names of countries and the values are dictionaries containing information about the capital city and population.\n",
    "Add at least three countries to the main dictionary.\n",
    "Print the details (capital and population) of a specific country."
   ]
  },
  {
   "cell_type": "code",
   "execution_count": 29,
   "id": "f945258d",
   "metadata": {},
   "outputs": [
    {
     "name": "stdout",
     "output_type": "stream",
     "text": [
      "Country: India\n",
      "Capital: New Delhi\n",
      "Population: 1380004385\n"
     ]
    }
   ],
   "source": [
    "#code\n",
    "# Create a dictionary of countries with capital city and population information\n",
    "countries_info = {\n",
    "     'India': {'capital': 'New Delhi', 'population': 1380004385},\n",
    "     'South korea':{'capital':'Seoul','population':518158100},\n",
    "    'England': {'capital': 'london', 'population':565132870},\n",
    "}\n",
    "\n",
    "# Print the details (capital and population) of a specific country\n",
    "country_name = 'India'\n",
    "if country_name in countries_info:\n",
    "    country_info = countries_info[country_name]\n",
    "    print(f\"Country: {country_name}\")\n",
    "    print(f\"Capital: {country_info['capital']}\")\n",
    "    print(f\"Population: {country_info['population']}\")"
   ]
  },
  {
   "cell_type": "markdown",
   "id": "5abcaf77",
   "metadata": {},
   "source": [
    "##### 30. Create a dictionary where keys are items (strings) and values are prices (floats).\n",
    "Ask the user to enter items and quantities they want to purchase.\n",
    "Calculate the total cost of items in the shopping cart."
   ]
  },
  {
   "cell_type": "code",
   "execution_count": 1,
   "id": "0fd421d2",
   "metadata": {},
   "outputs": [
    {
     "name": "stdout",
     "output_type": "stream",
     "text": [
      "Enter an item (or 'done' to finish): chocolate\n",
      "Enter the quantity of chocolate: 6\n",
      "Enter an item (or 'done' to finish): done\n",
      "Total cost of items in the shopping cart: $90.00\n"
     ]
    }
   ],
   "source": [
    "# Create a dictionary of items and their prices\n",
    "# Create a dictionary of items and their prices\n",
    "item_prices = {\n",
    "    \"apple\": 40.00,\n",
    "    \"banana\": 30.25,\n",
    "    \"orange\": 30.75,\n",
    "    \"chocolate\": 15.0,\n",
    "}\n",
    "\n",
    "# Initialize an empty shopping cart\n",
    "shopping_cart = {}\n",
    "\n",
    "# Ask the user for items and quantities\n",
    "while True:\n",
    "    item = input(\"Enter an item (or 'done' to finish): \")\n",
    "    if item == 'done':\n",
    "        break\n",
    "    quantity = int(input(f\"Enter the quantity of {item}: \"))\n",
    "    if item in item_prices:\n",
    "        if item in shopping_cart:\n",
    "            shopping_cart[item] += quantity\n",
    "        else:\n",
    "            shopping_cart[item] = quantity\n",
    "    else:\n",
    "        print(\"Item not found in the price list. Please try again.\")\n",
    "\n",
    "# Calculate the total cost\n",
    "total_cost = 0\n",
    "for item, quantity in shopping_cart.items():\n",
    "    if item in item_prices:\n",
    "        total_cost += item_prices[item]*quantity\n",
    "# Display the total cost\n",
    "print(f\"Total cost of items in the shopping cart: ${total_cost:.2f}\")\n",
    "\n",
    "\n",
    "\n"
   ]
  },
  {
   "cell_type": "code",
   "execution_count": null,
   "id": "d8ede6db",
   "metadata": {},
   "outputs": [],
   "source": [
    "n=print(input(\"Enter the quantity\"))\n",
    "quantity=items_prices*n\n",
    "quantity"
   ]
  },
  {
   "cell_type": "code",
   "execution_count": 4,
   "id": "58e95b6d",
   "metadata": {},
   "outputs": [
    {
     "name": "stdout",
     "output_type": "stream",
     "text": [
      "While condition is true 1\n",
      "While condition is true 2\n",
      "While condition is true 3\n",
      "While condition is true 4\n",
      "While condition is true 5\n"
     ]
    }
   ],
   "source": [
    "#Simple while loop\n",
    "\n",
    "i=1\n",
    "while  i<6:\n",
    "    print('While condition is true',i)\n",
    "    i=i+1"
   ]
  },
  {
   "cell_type": "code",
   "execution_count": 10,
   "id": "e7c87666",
   "metadata": {},
   "outputs": [
    {
     "name": "stdout",
     "output_type": "stream",
     "text": [
      "Start of While\n",
      "1\n",
      "2\n",
      "3\n",
      "End of While\n"
     ]
    }
   ],
   "source": [
    "# While loop with break\n",
    "i=1\n",
    "print('Start of While')\n",
    "while i<6:\n",
    "    print(i)\n",
    "    if i==3:\n",
    "         break\n",
    "    i=i+1\n",
    "print(\"End of While\")"
   ]
  },
  {
   "cell_type": "code",
   "execution_count": 15,
   "id": "c293675d",
   "metadata": {},
   "outputs": [
    {
     "name": "stdout",
     "output_type": "stream",
     "text": [
      "1\n",
      "hi\n",
      "2\n",
      "hi\n",
      "4\n",
      "hi\n",
      "5\n",
      "hi\n",
      "6\n",
      "hi\n"
     ]
    }
   ],
   "source": [
    "# While loop with continue stat\n",
    "i=0\n",
    "while i<6:\n",
    "        i=i+1\n",
    "        if i==3:\n",
    "                continue\n",
    "        print(i)\n",
    "        print('hi')"
   ]
  },
  {
   "cell_type": "code",
   "execution_count": 16,
   "id": "2b61b406",
   "metadata": {},
   "outputs": [
    {
     "name": "stdout",
     "output_type": "stream",
     "text": [
      "4\n",
      "hi\n",
      "5\n",
      "hi\n",
      "6\n",
      "hi\n"
     ]
    }
   ],
   "source": [
    "i=0\n",
    "while i<6:\n",
    "        i=i+1\n",
    "        if i>0 and i<4: # instead i==1 or 1==2 or i==3\n",
    "                continue\n",
    "        print(i)\n",
    "        print('hi')"
   ]
  },
  {
   "cell_type": "code",
   "execution_count": 17,
   "id": "737ead13",
   "metadata": {},
   "outputs": [
    {
     "name": "stdout",
     "output_type": "stream",
     "text": [
      "3\n",
      "4\n",
      "5\n",
      "While loop condition is false\n",
      "hi\n"
     ]
    }
   ],
   "source": [
    "# While loop with else statement\n",
    "\n",
    "i=3\n",
    "while i<6: \n",
    "    i=i+1\n",
    "else:\n",
    "        print('While loop condition is false')\n",
    "print('hi')"
   ]
  },
  {
   "cell_type": "code",
   "execution_count": 26,
   "id": "a9bbb519",
   "metadata": {},
   "outputs": [
    {
     "name": "stdout",
     "output_type": "stream",
     "text": [
      "Data science\n",
      "Data science\n",
      "Data science\n"
     ]
    }
   ],
   "source": [
    "count=0\n",
    "while (count<3):\n",
    "        count=count+1\n",
    "        print('Data science')"
   ]
  },
  {
   "cell_type": "code",
   "execution_count": 28,
   "id": "c765068c",
   "metadata": {},
   "outputs": [
    {
     "name": "stdout",
     "output_type": "stream",
     "text": [
      "1 Data science\n",
      "2 Data science\n",
      "3 Data science\n"
     ]
    }
   ],
   "source": [
    "count=0\n",
    "while (count<3):\n",
    "        count=count+1\n",
    "        print(count,'Data science') #or('Data science',count)"
   ]
  },
  {
   "cell_type": "code",
   "execution_count": 51,
   "id": "ff6f40f1",
   "metadata": {},
   "outputs": [
    {
     "name": "stdout",
     "output_type": "stream",
     "text": [
      "1\n",
      "3\n",
      "5\n",
      "7\n",
      "9\n",
      "11\n",
      "13\n",
      "15\n",
      "17\n",
      "19\n"
     ]
    }
   ],
   "source": [
    "# Task: print 10 odd num using while loop\n",
    "i=1\n",
    "\n",
    "while i<=20:\n",
    "    print(i)\n",
    "    i=i+2\n",
    "        \n",
    "\n",
    "       "
   ]
  },
  {
   "cell_type": "code",
   "execution_count": 58,
   "id": "ed15e989",
   "metadata": {},
   "outputs": [
    {
     "name": "stdout",
     "output_type": "stream",
     "text": [
      "2\n",
      "4\n",
      "6\n",
      "8\n",
      "10\n",
      "12\n",
      "14\n",
      "16\n",
      "18\n",
      "20\n"
     ]
    }
   ],
   "source": [
    "i=0\n",
    "\n",
    "while i<20:\n",
    "    i=i+2\n",
    "    print(i)\n",
    "  \n",
    "        "
   ]
  },
  {
   "cell_type": "code",
   "execution_count": 11,
   "id": "93ea0144",
   "metadata": {},
   "outputs": [
    {
     "name": "stdout",
     "output_type": "stream",
     "text": [
      "Even: 20\n",
      "Count: 20\n"
     ]
    }
   ],
   "source": [
    "\n",
    "    "
   ]
  },
  {
   "cell_type": "code",
   "execution_count": 80,
   "id": "08871c35",
   "metadata": {},
   "outputs": [
    {
     "name": "stdout",
     "output_type": "stream",
     "text": [
      "3\n",
      "4\n",
      "5\n",
      "6\n",
      "7\n",
      "8\n",
      "9\n",
      "5\n",
      "6\n",
      "8\n",
      "4\n",
      "56\n",
      "5\n",
      "47\n",
      "done with all the elements\n"
     ]
    }
   ],
   "source": [
    "#For loop\n",
    "lis=[1,2,3,4,5,6,7,3,4,6,2,54,3,45]\n",
    "lis\n",
    "for ele in lis: #iter and next\n",
    "    d=ele+2\n",
    "    print(d)\n",
    "print('done with all the elements')\n"
   ]
  },
  {
   "cell_type": "code",
   "execution_count": 36,
   "id": "0b587260",
   "metadata": {},
   "outputs": [
    {
     "name": "stdout",
     "output_type": "stream",
     "text": [
      "Odd: 1\n",
      "Even: 2\n",
      "Odd: 3\n",
      "Even: 4\n",
      "Odd: 5\n",
      "Even: 6\n",
      "Odd: 7\n",
      "Even: 8\n",
      "Odd: 9\n",
      "Even: 10\n",
      "Odd: 11\n",
      "Even: 12\n",
      "Odd: 13\n",
      "Even: 14\n",
      "Odd: 15\n",
      "Even: 16\n",
      "Odd: 17\n",
      "Even: 18\n",
      "Odd: 19\n",
      "Even: 20\n",
      "Count: 20\n"
     ]
    }
   ],
   "source": [
    "    i=0\n",
    "    c=0\n",
    "while  i<20:\n",
    "        i=i+1\n",
    "        c=c+1\n",
    "        if  i%2==0:\n",
    "            print('Even:',i)\n",
    "        \n",
    "        else:\n",
    "            print('Odd:',i)\n",
    "\n",
    "print('Count:',c)"
   ]
  },
  {
   "cell_type": "code",
   "execution_count": 5,
   "id": "d30994f3",
   "metadata": {},
   "outputs": [
    {
     "name": "stdout",
     "output_type": "stream",
     "text": [
      "d\n",
      "a\n",
      "t\n",
      "a\n",
      " \n",
      "s\n",
      "c\n",
      "i\n",
      "e\n",
      "n\n",
      "c\n",
      "e\n"
     ]
    }
   ],
   "source": [
    "s=\"data science\"\n",
    "s1=[]\n",
    "for i in s:\n",
    "    print(i)\n",
    " "
   ]
  },
  {
   "cell_type": "code",
   "execution_count": 6,
   "id": "efdf66ea",
   "metadata": {},
   "outputs": [
    {
     "name": "stdout",
     "output_type": "stream",
     "text": [
      "D\n",
      "A\n",
      "T\n",
      "A\n",
      " \n",
      "S\n",
      "C\n",
      "I\n",
      "E\n",
      "N\n",
      "C\n",
      "E\n",
      "['D', 'A', 'T', 'A', ' ', 'S', 'C', 'I', 'E', 'N', 'C', 'E']\n"
     ]
    }
   ],
   "source": [
    " s=\"data science\"\n",
    "s1=[]\n",
    "for i in s:  \n",
    "    print(i.upper())\n",
    "    s1.extend(i.upper())\n",
    "print(s1)"
   ]
  },
  {
   "cell_type": "code",
   "execution_count": 41,
   "id": "b9c61437",
   "metadata": {},
   "outputs": [
    {
     "name": "stdout",
     "output_type": "stream",
     "text": [
      "Apple\n",
      "Banana\n",
      "Mango\n",
      "water\n"
     ]
    }
   ],
   "source": [
    "fruits={1:'Apple',2:'Banana',3:'Mango',4:'water'}\n",
    "for i in fruits.values():\n",
    "    print(i)"
   ]
  },
  {
   "cell_type": "code",
   "execution_count": 42,
   "id": "fb6f7535",
   "metadata": {},
   "outputs": [
    {
     "name": "stdout",
     "output_type": "stream",
     "text": [
      "1\n",
      "2\n",
      "3\n",
      "4\n"
     ]
    }
   ],
   "source": [
    "fruits={1:'Apple',2:'Banana',3:'Mango',4:'water'}\n",
    "for i in fruits:\n",
    "    print(i)"
   ]
  },
  {
   "cell_type": "code",
   "execution_count": 47,
   "id": "9e2165b0",
   "metadata": {},
   "outputs": [
    {
     "name": "stdout",
     "output_type": "stream",
     "text": [
      "Banana\n"
     ]
    }
   ],
   "source": [
    "fruits={1:'Apple',2:'Banana',3:'Mango',4:'water'}\n",
    "for i in fruits:\n",
    "    if fruits[i]=='Banana':\n",
    "        print(fruits[i])"
   ]
  },
  {
   "cell_type": "code",
   "execution_count": 9,
   "id": "6b3073b1",
   "metadata": {},
   "outputs": [
    {
     "name": "stdout",
     "output_type": "stream",
     "text": [
      "2 Found: Banana\n"
     ]
    }
   ],
   "source": [
    "fruits={1:'Apple',2:'Banana',3:'Mango',4:'water'}\n",
    "for i in fruits:\n",
    "    if fruits[i]=='Banana':\n",
    "        print(i,\"Found:\",fruits[i])\n"
   ]
  },
  {
   "cell_type": "code",
   "execution_count": 8,
   "id": "d7c02d7e",
   "metadata": {},
   "outputs": [
    {
     "name": "stdout",
     "output_type": "stream",
     "text": [
      "1 : Apple\n",
      "3 : Mango\n",
      "4 : water\n"
     ]
    }
   ],
   "source": [
    " fruits={1:'Apple',2:'Banana',3:'Mango',4:'water'}\n",
    "for i in fruits:   \n",
    "    if fruits[i]!='Banana':\n",
    "        print(i,\":\",fruits[i])"
   ]
  },
  {
   "cell_type": "code",
   "execution_count": 54,
   "id": "22b63e1f",
   "metadata": {},
   "outputs": [],
   "source": [
    "#Task: try it with tuple and set\n",
    "#1.Print tuple values using for loop\n",
    "#2. Print set values using for loop\n",
    "myset=set()"
   ]
  },
  {
   "cell_type": "code",
   "execution_count": 70,
   "id": "b029707a",
   "metadata": {},
   "outputs": [
    {
     "name": "stdout",
     "output_type": "stream",
     "text": [
      "1,2,4,5\n"
     ]
    }
   ],
   "source": [
    "set={'1,2,4,5'}\n",
    "for i in set:\n",
    "       print(i)"
   ]
  },
  {
   "cell_type": "code",
   "execution_count": 71,
   "id": "78028458",
   "metadata": {},
   "outputs": [
    {
     "name": "stdout",
     "output_type": "stream",
     "text": [
      "1,4,data\n"
     ]
    }
   ],
   "source": [
    "tup=()\n",
    "tup={'1,4,data'}\n",
    "for i in tup:\n",
    "    print(i)\n",
    "\n"
   ]
  },
  {
   "cell_type": "code",
   "execution_count": 75,
   "id": "f951d6d7",
   "metadata": {},
   "outputs": [
    {
     "name": "stdout",
     "output_type": "stream",
     "text": [
      "0\n",
      "1\n",
      "2\n",
      "3\n",
      "4\n",
      "5\n",
      "6\n",
      "7\n",
      "8\n",
      "9\n"
     ]
    }
   ],
   "source": [
    "for i in range(0,10):\n",
    "        print(i)"
   ]
  },
  {
   "cell_type": "code",
   "execution_count": 80,
   "id": "2bffe7f7",
   "metadata": {},
   "outputs": [],
   "source": [
    "#Nested loops\n",
    "list1=[\"Math\",\"kanna\",\"science\"]\n",
    "list2=[2,3,4,5]"
   ]
  },
  {
   "cell_type": "code",
   "execution_count": 81,
   "id": "2dcf4322",
   "metadata": {},
   "outputs": [
    {
     "name": "stdout",
     "output_type": "stream",
     "text": [
      "Math 2\n",
      "Math 3\n",
      "Math 4\n",
      "Math 5\n",
      "kanna 2\n",
      "kanna 3\n",
      "kanna 4\n",
      "kanna 5\n",
      "science 2\n",
      "science 3\n",
      "science 4\n",
      "science 5\n"
     ]
    }
   ],
   "source": [
    "for i in list1:\n",
    "    for k in list2:\n",
    "        print(i,k)"
   ]
  },
  {
   "cell_type": "code",
   "execution_count": 23,
   "id": "0ba4bccc",
   "metadata": {},
   "outputs": [
    {
     "name": "stdout",
     "output_type": "stream",
     "text": [
      "0 0 1\n",
      "0 1 2\n",
      "1 0 3\n",
      "1 1 4\n"
     ]
    }
   ],
   "source": [
    "#Task:\n",
    "list3=[[1,2],[3,4]]\n",
    "\n",
    "for r in range(2):\n",
    "     for c in range(2):\n",
    "            print(r,c,list3[r][c])"
   ]
  },
  {
   "cell_type": "code",
   "execution_count": null,
   "id": "aced9d4a",
   "metadata": {},
   "outputs": [],
   "source": []
  },
  {
   "cell_type": "code",
   "execution_count": 90,
   "id": "cf2ea8a2",
   "metadata": {},
   "outputs": [
    {
     "name": "stdout",
     "output_type": "stream",
     "text": [
      "0 0\n",
      "0 1\n",
      "1 0\n",
      "1 1\n"
     ]
    }
   ],
   "source": [
    "for r in range(2):\n",
    "     for c in range(2):\n",
    "            print(r,c)"
   ]
  },
  {
   "cell_type": "code",
   "execution_count": 110,
   "id": "da655a0b",
   "metadata": {},
   "outputs": [
    {
     "name": "stdout",
     "output_type": "stream",
     "text": [
      "A\n",
      "10\n",
      "B\n",
      "20\n"
     ]
    }
   ],
   "source": [
    "# Task: print the rotsl checkout amount for purchasing 2 items from cart \n",
    "# cart content:{}\n",
    "cart={1:\"A\",'p1':10,2:\"B\",'p2':20}\n",
    "for i in cart.values():\n",
    "    print(i)"
   ]
  },
  {
   "cell_type": "code",
   "execution_count": 24,
   "id": "45f8547f",
   "metadata": {},
   "outputs": [
    {
     "name": "stdout",
     "output_type": "stream",
     "text": [
      "egg:B\n",
      "milk:A\n"
     ]
    }
   ],
   "source": [
    "items={'milk:A','egg:B'}\n",
    "for item in items:\n",
    "    print(item)"
   ]
  },
  {
   "cell_type": "code",
   "execution_count": 25,
   "id": "005e9f8c",
   "metadata": {},
   "outputs": [
    {
     "name": "stdout",
     "output_type": "stream",
     "text": [
      "1 name\n",
      "1 price\n",
      "2 name\n",
      "2 price\n",
      "30\n"
     ]
    }
   ],
   "source": [
    "cart={1:{'name':\"A\",'price':10},2:{'name':\"B\",'price':20}}\n",
    "total=0\n",
    "for item in cart:\n",
    "    for i in cart[item]:\n",
    "        #print(cart[item]['price'])\n",
    "         print(item,i)\n",
    "    total=total+cart[item]['price']\n",
    "print(total)"
   ]
  },
  {
   "cell_type": "code",
   "execution_count": 147,
   "id": "a4f34761",
   "metadata": {},
   "outputs": [
    {
     "name": "stdout",
     "output_type": "stream",
     "text": [
      "A - 10\n",
      "B - 20\n",
      "----------------------\n",
      "Total: 30\n"
     ]
    }
   ],
   "source": [
    "cart={1:{'name':\"A\",'price':10},2:{'name':\"B\",'price':20}}\n",
    "total=0\n",
    "for item in cart:\n",
    "    for i in cart[item]:\n",
    "        if i=='price':\n",
    "                total=total+cart[item][i]\n",
    "        if i!='name':\n",
    "                print(cart[item]['name'],\"-\",cart[item]['price'])\n",
    "print(\"----------------------\")\n",
    "print('Total:',total)\n"
   ]
  },
  {
   "cell_type": "code",
   "execution_count": 2,
   "id": "00c69398",
   "metadata": {},
   "outputs": [
    {
     "name": "stdout",
     "output_type": "stream",
     "text": [
      "A\n",
      "10\n",
      "B\n",
      "20\n"
     ]
    }
   ],
   "source": [
    "cart={1:\"A\",'p1':\"10\",2:\"B\",'p2':\"20\"}\n",
    "total=0\n",
    "for i in cart.values():\n",
    "    print(i)"
   ]
  },
  {
   "cell_type": "code",
   "execution_count": 5,
   "id": "854b0015",
   "metadata": {},
   "outputs": [],
   "source": [
    "cart={1:\"A\",'p1':\"10\",2:\"B\",'p2':\"20\"}\n",
    "total=0\n",
    "for i in cart:\n",
    "    if 'p1'==\"10\":\n",
    "        total=total+cart[p1][10]\n",
    "        print(total,\"Total\")\n",
    "        "
   ]
  },
  {
   "cell_type": "code",
   "execution_count": 56,
   "id": "c01f4c14",
   "metadata": {},
   "outputs": [
    {
     "ename": "KeyError",
     "evalue": "10",
     "output_type": "error",
     "traceback": [
      "\u001b[1;31m---------------------------------------------------------------------------\u001b[0m",
      "\u001b[1;31mKeyError\u001b[0m                                  Traceback (most recent call last)",
      "Cell \u001b[1;32mIn[56], line 6\u001b[0m\n\u001b[0;32m      3\u001b[0m \u001b[38;5;28;01mfor\u001b[39;00m i \u001b[38;5;129;01min\u001b[39;00m cart:\n\u001b[0;32m      4\u001b[0m     \u001b[38;5;28;01mfor\u001b[39;00m j \u001b[38;5;129;01min\u001b[39;00m cart[i]:\n\u001b[0;32m      5\u001b[0m         \u001b[38;5;66;03m#if i=='p1': \u001b[39;00m\n\u001b[1;32m----> 6\u001b[0m         \u001b[38;5;28msum\u001b[39m\u001b[38;5;241m=\u001b[39mcart[\u001b[38;5;241m1\u001b[39m][\u001b[38;5;241m10\u001b[39m]\u001b[38;5;241m+\u001b[39mcart[\u001b[38;5;241m2\u001b[39m][\u001b[38;5;241m20\u001b[39m]\n\u001b[0;32m      7\u001b[0m         \u001b[38;5;28mprint\u001b[39m(\u001b[38;5;28msum\u001b[39m)\n",
      "\u001b[1;31mKeyError\u001b[0m: 10"
     ]
    }
   ],
   "source": [
    "cart={1:{'name':\"A\",'p1':\"10\"},2:{'name':\"B\",'p2':\"20\"}}\n",
    "#total=0\n",
    "for i in cart:\n",
    "    for j in cart[i]:\n",
    "        #if i=='p1': \n",
    "        sum=cart[1][10]+cart[2][20]\n",
    "        print(sum)\n",
    "            #total=total+cart[i][j]\n",
    "            #print(total)\n",
    "            #print(i,j)\n",
    "            \n",
    "        "
   ]
  },
  {
   "cell_type": "code",
   "execution_count": 59,
   "id": "b4fa770b",
   "metadata": {},
   "outputs": [
    {
     "name": "stdout",
     "output_type": "stream",
     "text": [
      "0\n",
      "1\n",
      "2\n",
      "3\n",
      "4\n",
      "5\n",
      "6\n",
      "7\n",
      "8\n",
      "9\n"
     ]
    }
   ],
   "source": [
    "## Range function\n",
    "# range \n",
    "for i in range(0,10):\n",
    "    print(i)"
   ]
  },
  {
   "cell_type": "code",
   "execution_count": 60,
   "id": "8df42c61",
   "metadata": {},
   "outputs": [
    {
     "name": "stdout",
     "output_type": "stream",
     "text": [
      "0\n",
      "1\n",
      "2\n",
      "3\n",
      "4\n"
     ]
    }
   ],
   "source": [
    "for i in range(5):\n",
    "     print(i)"
   ]
  },
  {
   "cell_type": "code",
   "execution_count": 77,
   "id": "a3b29b3d",
   "metadata": {},
   "outputs": [
    {
     "name": "stdout",
     "output_type": "stream",
     "text": [
      "0\n",
      "2\n",
      "4\n",
      "6\n",
      "8\n",
      "10\n",
      "12\n",
      "14\n",
      "16\n",
      "18\n"
     ]
    }
   ],
   "source": [
    "for i in range(0,20,2):\n",
    " \n",
    "         print(i)\n",
    "               "
   ]
  },
  {
   "cell_type": "code",
   "execution_count": 114,
   "id": "6031f077",
   "metadata": {},
   "outputs": [
    {
     "name": "stdout",
     "output_type": "stream",
     "text": [
      "Total: 30\n"
     ]
    }
   ],
   "source": [
    "cart={1:{'name':\"A\",'price':10},2:{'name':\"B\",'price':20}}\n",
    "total=0\n",
    "for item in cart:\n",
    "    for i in cart[item]:\n",
    "        if i=='price':\n",
    "              total=total+cart[item][i]\n",
    "    \n",
    "print('Total:',total)\n"
   ]
  },
  {
   "cell_type": "code",
   "execution_count": 109,
   "id": "3dec228b",
   "metadata": {},
   "outputs": [
    {
     "name": "stdout",
     "output_type": "stream",
     "text": [
      "30 :Total\n"
     ]
    }
   ],
   "source": [
    "cart={1:{'name':\"A\",'price':10},2:{'name':\"B\",'price':20}}\n",
    "total=0\n",
    "for item in cart:\n",
    "      for i in cart[item]:\n",
    "            if i=='price':\n",
    "                total=total+cart[item][i]\n",
    "print(total,\":Total\")"
   ]
  },
  {
   "cell_type": "code",
   "execution_count": 116,
   "id": "3470c737",
   "metadata": {},
   "outputs": [],
   "source": [
    "S=[1,2,3,4,5]\n"
   ]
  },
  {
   "cell_type": "code",
   "execution_count": 130,
   "id": "2cc68bcd",
   "metadata": {},
   "outputs": [
    {
     "name": "stdout",
     "output_type": "stream",
     "text": [
      "1 Odd\n",
      "2 Even\n",
      "3 Odd\n",
      "4 Even\n",
      "5 Odd\n"
     ]
    }
   ],
   "source": [
    "for i in S:\n",
    "    if(i%2==0):\n",
    "        print(i,'Even')\n",
    "    else:\n",
    "        if(i%2!=0):\n",
    "             print(i,'Odd')"
   ]
  },
  {
   "cell_type": "code",
   "execution_count": 131,
   "id": "0fcea9fc",
   "metadata": {},
   "outputs": [],
   "source": [
    "# Write a program to add a key-value pair to a dictonary\n",
    "dic={}"
   ]
  },
  {
   "cell_type": "code",
   "execution_count": 132,
   "id": "08e709f7",
   "metadata": {},
   "outputs": [
    {
     "name": "stdout",
     "output_type": "stream",
     "text": [
      "{'key': 'value'}\n"
     ]
    }
   ],
   "source": [
    "dic[\"key\"]=\"value\"\n",
    "print(dic)"
   ]
  },
  {
   "cell_type": "code",
   "execution_count": 135,
   "id": "94f2a1ea",
   "metadata": {},
   "outputs": [
    {
     "data": {
      "text/plain": [
       "{1: 'Apple', 3: 'Mango', 4: 'water'}"
      ]
     },
     "execution_count": 135,
     "metadata": {},
     "output_type": "execute_result"
    }
   ],
   "source": [
    "#Remove a specific key from the dictonary\n",
    "dic={1:'Apple',2:'Banana',3:'Mango',4:'water'}\n",
    "dic.pop(2)\n",
    "dic"
   ]
  },
  {
   "cell_type": "code",
   "execution_count": 141,
   "id": "0ccf150a",
   "metadata": {},
   "outputs": [
    {
     "data": {
      "text/plain": [
       "True"
      ]
     },
     "execution_count": 141,
     "metadata": {},
     "output_type": "execute_result"
    }
   ],
   "source": [
    "#check if a key is present in the dictionary\n",
    "1 in dic\n"
   ]
  },
  {
   "cell_type": "code",
   "execution_count": null,
   "id": "e2cab680",
   "metadata": {},
   "outputs": [],
   "source": [
    "# Write a program to find the highest value in a dictionary\n",
    "dic={\"name\":'20',\"class\":'30'}\n",
    "max=max(dic.values())\n",
    "max"
   ]
  },
  {
   "cell_type": "code",
   "execution_count": null,
   "id": "6106d058",
   "metadata": {},
   "outputs": [],
   "source": [
    "dict = {\"a\": '100', \"b\": '45', \"c\": '30'}\n",
    "max_value = max(dict.values())\n",
    "print(\"The highest value in the dictionary is:\", max_value)"
   ]
  },
  {
   "cell_type": "code",
   "execution_count": 163,
   "id": "7b70a979",
   "metadata": {},
   "outputs": [],
   "source": [
    "# arg and no return\n",
    "\n",
    "def area_of_circle(r) :\n",
    "                  area=3.14*r*r\n",
    "                  print(area)"
   ]
  },
  {
   "cell_type": "code",
   "execution_count": 165,
   "id": "addcdf41",
   "metadata": {},
   "outputs": [
    {
     "name": "stdout",
     "output_type": "stream",
     "text": [
      "12.56\n"
     ]
    }
   ],
   "source": [
    "area_of_circle(2)"
   ]
  },
  {
   "cell_type": "code",
   "execution_count": 167,
   "id": "b1e765f7",
   "metadata": {},
   "outputs": [],
   "source": [
    "# with arg ans also with return\n",
    "def rectangle(l,b):\n",
    "    area=l*b\n",
    "    return area"
   ]
  },
  {
   "cell_type": "code",
   "execution_count": 169,
   "id": "3c6cc20a",
   "metadata": {},
   "outputs": [
    {
     "name": "stdout",
     "output_type": "stream",
     "text": [
      "Area of rectangle is: 3\n"
     ]
    }
   ],
   "source": [
    "a=rectangle(3,1)\n",
    "print('Area of rectangle is:',a)"
   ]
  },
  {
   "cell_type": "code",
   "execution_count": 176,
   "id": "984ce88b",
   "metadata": {},
   "outputs": [],
   "source": [
    "#with return and with no argument\n",
    "def squareofnum():\n",
    "    a=int(input('Enter a num:'))\n",
    "    return a**2"
   ]
  },
  {
   "cell_type": "code",
   "execution_count": 177,
   "id": "51f0b9d9",
   "metadata": {},
   "outputs": [
    {
     "name": "stdout",
     "output_type": "stream",
     "text": [
      "Enter a num:4\n",
      "Square of a num is: 16\n"
     ]
    }
   ],
   "source": [
    "print(\"Square of a num is:\",squareofnum())"
   ]
  },
  {
   "cell_type": "code",
   "execution_count": 219,
   "id": "593397f4",
   "metadata": {},
   "outputs": [
    {
     "name": "stdout",
     "output_type": "stream",
     "text": [
      "Enter the a value:2\n",
      "Enter the b value:3\n",
      "2.0\n",
      "3.0\n"
     ]
    },
    {
     "data": {
      "text/plain": [
       "5.0"
      ]
     },
     "execution_count": 219,
     "metadata": {},
     "output_type": "execute_result"
    }
   ],
   "source": [
    "#Task: Write a function to accept two num and send the to a fun and calculate\n",
    "# sum of two num and return the sum\n",
    "def sum_of_two_number(a,b):\n",
    "    print(a)\n",
    "    print(b)\n",
    "    sum=a+b\n",
    "    return sum\n",
    "a=float(input('Enter the a value:')) \n",
    "b=float(input('Enter the b value:')) \n",
    "sum_of_two_number(a,b)\n"
   ]
  },
  {
   "cell_type": "code",
   "execution_count": 234,
   "id": "ffe052ca",
   "metadata": {},
   "outputs": [],
   "source": [
    "#print odd numbers between 10 to 20 using function\n",
    "def oddnumbers_between_10_to_20():\n",
    "    for i in range(10,21):\n",
    "        if(i%2!=0):\n",
    "            print(i,'odd')\n",
    "  \n",
    "    "
   ]
  },
  {
   "cell_type": "code",
   "execution_count": 235,
   "id": "fdde295f",
   "metadata": {},
   "outputs": [
    {
     "name": "stdout",
     "output_type": "stream",
     "text": [
      "11 odd\n",
      "13 odd\n",
      "15 odd\n",
      "17 odd\n",
      "19 odd\n"
     ]
    }
   ],
   "source": [
    "oddnumbers_between_10_to_20()"
   ]
  },
  {
   "cell_type": "code",
   "execution_count": 2,
   "id": "2d9bd38f",
   "metadata": {},
   "outputs": [],
   "source": [
    "list=[]\n",
    "def add():\n",
    "   \n",
    "    num1=[1,2,3,4]\n",
    "    num2=[5,6,7,8]\n",
    "    result=map(num1,num2,lambda x,y:x+y)\n",
    "    result\n"
   ]
  },
  {
   "cell_type": "code",
   "execution_count": 14,
   "id": "fec9cb8c",
   "metadata": {},
   "outputs": [
    {
     "data": {
      "text/plain": [
       "['one', '3', '5', '8', '4', '9', 'one', '4', 'one']"
      ]
     },
     "execution_count": 14,
     "metadata": {},
     "output_type": "execute_result"
    }
   ],
   "source": [
    "list=[]\n",
    "list4=['one','3','5','8','4','9','one','4','one']\n",
    "\n",
    "\n",
    "list4"
   ]
  },
  {
   "cell_type": "code",
   "execution_count": 15,
   "id": "3f499133",
   "metadata": {},
   "outputs": [
    {
     "data": {
      "text/plain": [
       "['3', '5', '8', '4', '9', 'one', '4', 'one']"
      ]
     },
     "execution_count": 15,
     "metadata": {},
     "output_type": "execute_result"
    }
   ],
   "source": [
    "list4.remove('one')\n",
    "list4"
   ]
  },
  {
   "cell_type": "markdown",
   "id": "d3982586",
   "metadata": {},
   "source": []
  }
 ],
 "metadata": {
  "kernelspec": {
   "display_name": "Python 3 (ipykernel)",
   "language": "python",
   "name": "python3"
  },
  "language_info": {
   "codemirror_mode": {
    "name": "ipython",
    "version": 3
   },
   "file_extension": ".py",
   "mimetype": "text/x-python",
   "name": "python",
   "nbconvert_exporter": "python",
   "pygments_lexer": "ipython3",
   "version": "3.11.5"
  }
 },
 "nbformat": 4,
 "nbformat_minor": 5
}
