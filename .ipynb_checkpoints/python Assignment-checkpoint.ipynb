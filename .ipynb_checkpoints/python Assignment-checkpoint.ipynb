{
 "cells": [
  {
   "cell_type": "markdown",
   "id": "39d2da97",
   "metadata": {},
   "source": [
    "## python addition proram"
   ]
  },
  {
   "cell_type": "code",
   "execution_count": 3,
   "id": "6d6d6fc8",
   "metadata": {},
   "outputs": [
    {
     "name": "stdout",
     "output_type": "stream",
     "text": [
      "Enter the a value6\n",
      "Enter the b value8\n",
      "The sum of a and b is= 14\n"
     ]
    }
   ],
   "source": [
    "a=int(input(\"Enter the a value\"))\n",
    "b=int(input(\"Enter the b value\"))\n",
    "sum=a+b\n",
    "print(\"The sum of a and b is=\" , sum)"
   ]
  },
  {
   "cell_type": "markdown",
   "id": "12deff64",
   "metadata": {},
   "source": [
    " ### python sqrt proram"
   ]
  },
  {
   "cell_type": "code",
   "execution_count": 5,
   "id": "1939f6f3",
   "metadata": {},
   "outputs": [
    {
     "name": "stdout",
     "output_type": "stream",
     "text": [
      "Enter a number: 81\n",
      "The square root of 81 is 9.0\n"
     ]
    }
   ],
   "source": [
    "import math\n",
    "\n",
    "number = int(input(\"Enter a number: \"))\n",
    "\n",
    "sqrt = math.sqrt(number)\n",
    "\n",
    "print(\"The square root of\", number, \"is\", sqrt)"
   ]
  },
  {
   "cell_type": "markdown",
   "id": "48bb07b1",
   "metadata": {},
   "source": [
    "python area of triangle proram"
   ]
  },
  {
   "cell_type": "code",
   "execution_count": 11,
   "id": "d310ddc7",
   "metadata": {},
   "outputs": [
    {
     "name": "stdout",
     "output_type": "stream",
     "text": [
      "Enter the b value4\n",
      "Enter the h value8\n",
      "The area of Triangleis= 16.0\n"
     ]
    }
   ],
   "source": [
    "b=int(input(\"Enter the b value\"))\n",
    "h=int(input(\"Enter the h value\"))\n",
    "area= 0.5*b*h\n",
    "print(\"The area of Triangleis=\",area)"
   ]
  },
  {
   "cell_type": "code",
   "execution_count": 14,
   "id": "9349a299",
   "metadata": {},
   "outputs": [
    {
     "name": "stdout",
     "output_type": "stream",
     "text": [
      "Enter p value1000\n",
      "Enter t value1\n",
      "Enter r value10\n",
      "The si is= 100.0\n",
      "The Total amount is= 1100.0\n"
     ]
    }
   ],
   "source": [
    "p=int(input('Enter p value'))\n",
    "t=int(input('Enter t value'))\n",
    "r=int(input('Enter r value' ))\n",
    "si=p*t*r/100\n",
    "print(\"The si is=\", si)\n",
    "TA= p+si\n",
    "print(\"The Total amount is=\", TA)\n"
   ]
  },
  {
   "cell_type": "code",
   "execution_count": 8,
   "id": "0993fbda",
   "metadata": {},
   "outputs": [
    {
     "name": "stdout",
     "output_type": "stream",
     "text": [
      "Enter the principal amount: 12000\n",
      "Enter rate of interest: 200\n",
      "Enter time in years: 4\n",
      "The compund interest is 960000.0\n"
     ]
    }
   ],
   "source": [
    "\n",
    "\n",
    "p = int(input(\"Enter the principal amount: \"))\n",
    "\n",
    "r = int(input(\"Enter rate of interest: \"))\n",
    "\n",
    "t = int(input(\"Enter time in years: \" ))\n",
    "\n",
    "a=p*(1+(r/100))**t \n",
    "\n",
    "ci=a-p\n",
    "\n",
    "print('The compund interest is', ci)"
   ]
  },
  {
   "cell_type": "code",
   "execution_count": null,
   "id": "112689d7",
   "metadata": {},
   "outputs": [],
   "source": []
  }
 ],
 "metadata": {
  "kernelspec": {
   "display_name": "Python 3 (ipykernel)",
   "language": "python",
   "name": "python3"
  },
  "language_info": {
   "codemirror_mode": {
    "name": "ipython",
    "version": 3
   },
   "file_extension": ".py",
   "mimetype": "text/x-python",
   "name": "python",
   "nbconvert_exporter": "python",
   "pygments_lexer": "ipython3",
   "version": "3.11.5"
  }
 },
 "nbformat": 4,
 "nbformat_minor": 5
}
