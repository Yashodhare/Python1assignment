{
 "cells": [
  {
   "cell_type": "code",
   "execution_count": 1,
   "id": "0784d3c2",
   "metadata": {},
   "outputs": [
    {
     "name": "stdout",
     "output_type": "stream",
     "text": [
      "Enter a number: 4\n",
      "4 is not a prime number.\n"
     ]
    }
   ],
   "source": [
    "# Python Program to Check Prime Number\n",
    "def is_prime(num):\n",
    "    if num <= 1:\n",
    "        return False\n",
    "    if num <= 3:\n",
    "        return True\n",
    "\n",
    "    if num % 2 == 0 or num % 3 == 0:\n",
    "        return False\n",
    "\n",
    "    i = 5\n",
    "    while i * i <= num:\n",
    "        if num % i == 0 or num % (i + 2) == 0:\n",
    "            return False\n",
    "        i += 6 # compound assignment program\n",
    "\n",
    "    return True\n",
    "\n",
    "# result \n",
    "num = int(input(\"Enter a number: \"))\n",
    "if is_prime(num):\n",
    "    print(num, \"is a prime number.\")\n",
    "else:\n",
    "    print(num, \"is not a prime number.\")"
   ]
  },
  {
   "cell_type": "code",
   "execution_count": 2,
   "id": "dab69adf",
   "metadata": {},
   "outputs": [
    {
     "name": "stdout",
     "output_type": "stream",
     "text": [
      "2\n",
      "3\n",
      "5\n",
      "7\n",
      "11\n",
      "13\n",
      "17\n",
      "19\n",
      "23\n",
      "29\n",
      "31\n",
      "37\n",
      "41\n",
      "43\n",
      "47\n",
      "53\n",
      "59\n",
      "61\n",
      "67\n",
      "71\n",
      "73\n",
      "79\n",
      "83\n",
      "89\n",
      "97\n"
     ]
    }
   ],
   "source": [
    "# To Print all Prime numbers Btwn 1 to 100\n",
    "def is_prime(n):\n",
    "    if n <= 1:\n",
    "        return False\n",
    "    i = 2\n",
    "    while i*i <= n:\n",
    "        if n % i == 0:\n",
    "            return False\n",
    "        i += 1\n",
    "    return True\n",
    " \n",
    "\n",
    "n = 2\n",
    "count = 0\n",
    "while count < 25:\n",
    "    if is_prime(n):\n",
    "        print(n)\n",
    "        count += 1\n",
    "    n += 1"
   ]
  },
  {
   "cell_type": "code",
   "execution_count": 5,
   "id": "8c575a0e",
   "metadata": {},
   "outputs": [
    {
     "name": "stdout",
     "output_type": "stream",
     "text": [
      "Factorial of 8 is 40320\n"
     ]
    }
   ],
   "source": [
    "# factorial of given number\n",
    "def factorial(n):\n",
    "\n",
    "    return 1 if (n==1 or n==0) else n * factorial(n - 1) \n",
    "\n",
    "\n",
    "num = 8\n",
    "print(\"Factorial of\",num,\"is\",factorial(num))"
   ]
  },
  {
   "cell_type": "code",
   "execution_count": 5,
   "id": "b1716c83",
   "metadata": {},
   "outputs": [],
   "source": [
    "from datetime import date\n"
   ]
  },
  {
   "cell_type": "code",
   "execution_count": 6,
   "id": "352f7664",
   "metadata": {},
   "outputs": [
    {
     "data": {
      "text/plain": [
       "datetime.date(2000, 2, 21)"
      ]
     },
     "execution_count": 6,
     "metadata": {},
     "output_type": "execute_result"
    }
   ],
   "source": [
    "my_date=date(2000,2,21)\n",
    "my_date"
   ]
  },
  {
   "cell_type": "code",
   "execution_count": 7,
   "id": "896ffbf0",
   "metadata": {},
   "outputs": [
    {
     "name": "stdout",
     "output_type": "stream",
     "text": [
      "Today's date is 2023-11-02\n"
     ]
    }
   ],
   "source": [
    "today1=date.today()\n",
    "print(\"Today's date is\", today1)"
   ]
  },
  {
   "cell_type": "code",
   "execution_count": 8,
   "id": "0c56a82c",
   "metadata": {},
   "outputs": [
    {
     "data": {
      "text/plain": [
       "4"
      ]
     },
     "execution_count": 8,
     "metadata": {},
     "output_type": "execute_result"
    }
   ],
   "source": [
    "today1.isoweekday()"
   ]
  },
  {
   "cell_type": "code",
   "execution_count": 9,
   "id": "23182db7",
   "metadata": {},
   "outputs": [
    {
     "name": "stdout",
     "output_type": "stream",
     "text": [
      "current year: 2023\n",
      "current month: 11\n",
      "current day: 2\n"
     ]
    }
   ],
   "source": [
    "print('current year:', today1.year)\n",
    "print('current month:',today1.month)\n",
    "print('current day:',today1.day)"
   ]
  },
  {
   "cell_type": "code",
   "execution_count": 10,
   "id": "e642e14e",
   "metadata": {},
   "outputs": [
    {
     "data": {
      "text/plain": [
       "datetime.datetime(2023, 11, 2, 14, 42, 29, 872394)"
      ]
     },
     "execution_count": 10,
     "metadata": {},
     "output_type": "execute_result"
    }
   ],
   "source": [
    "from datetime import datetime as dt\n",
    "date1=dt.now()\n",
    "date1"
   ]
  },
  {
   "cell_type": "code",
   "execution_count": 4,
   "id": "3366a3e4",
   "metadata": {},
   "outputs": [],
   "source": [
    "from datetime import date, timedelta"
   ]
  },
  {
   "cell_type": "code",
   "execution_count": 5,
   "id": "2e80b646",
   "metadata": {},
   "outputs": [
    {
     "name": "stdout",
     "output_type": "stream",
     "text": [
      "today: 2023-11-02\n",
      "Future date after 5000 days is: : 2037-07-11\n",
      "Date of birth is: 2000-02-21\n",
      "Age: 37\n"
     ]
    }
   ],
   "source": [
    "# Task:- Calculate your age after 5000 days.\n",
    "## The output should be in years\n",
    "\n",
    "#1. Find todays date\n",
    "todaysdate=date.today()\n",
    "print('today:', todaysdate)\n",
    "\n",
    "#2. future date after 5000 days\n",
    "futuredate=todaysdate+timedelta(days=5000)\n",
    "print('Future date after 5000 days is: :', futuredate)\n",
    "\n",
    "#3. create a date object with date of birth\n",
    "dob=date(2000,2,21)\n",
    "print('Date of birth is:', dob)\n",
    "\n",
    "#4. Calculate age by substracting two dates\n",
    "age=(futuredate.year-dob.year)\n",
    "print('Age:', age)"
   ]
  },
  {
   "cell_type": "code",
   "execution_count": 1,
   "id": "7b4abc3b",
   "metadata": {},
   "outputs": [
    {
     "name": "stdout",
     "output_type": "stream",
     "text": [
      "[1, 2, 3, 4, 5]\n"
     ]
    }
   ],
   "source": [
    "l1=list([1,2,3,4,5])\n",
    "print(l1)\n"
   ]
  },
  {
   "cell_type": "code",
   "execution_count": 2,
   "id": "3ff555e0",
   "metadata": {},
   "outputs": [
    {
     "data": {
      "text/plain": [
       "5"
      ]
     },
     "execution_count": 2,
     "metadata": {},
     "output_type": "execute_result"
    }
   ],
   "source": [
    "len(l1)"
   ]
  }
 ],
 "metadata": {
  "kernelspec": {
   "display_name": "Python 3 (ipykernel)",
   "language": "python",
   "name": "python3"
  },
  "language_info": {
   "codemirror_mode": {
    "name": "ipython",
    "version": 3
   },
   "file_extension": ".py",
   "mimetype": "text/x-python",
   "name": "python",
   "nbconvert_exporter": "python",
   "pygments_lexer": "ipython3",
   "version": "3.11.5"
  }
 },
 "nbformat": 4,
 "nbformat_minor": 5
}
