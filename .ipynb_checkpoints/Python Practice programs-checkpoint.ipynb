{
 "cells": [
  {
   "cell_type": "code",
   "execution_count": 2,
   "id": "46859a13",
   "metadata": {},
   "outputs": [
    {
     "name": "stdout",
     "output_type": "stream",
     "text": [
      "The power of a given num is:256\n"
     ]
    }
   ],
   "source": [
    "#1.compute the power of a given num\n",
    "a=2\n",
    "b=8\n",
    "result=1\n",
    "while b!=0:\n",
    "    result*=a\n",
    "    b-=1\n",
    "print(\"The power of a given num is:\"+str(result))"
   ]
  },
  {
   "cell_type": "code",
   "execution_count": 3,
   "id": "c781828a",
   "metadata": {},
   "outputs": [
    {
     "name": "stdout",
     "output_type": "stream",
     "text": [
      "The power is:16\n"
     ]
    }
   ],
   "source": [
    "#1.Python program to compute the power of a number\n",
    "b=4\n",
    "e=2\n",
    "result=pow(b,e)\n",
    "print(\"The power is:\" +str(result))"
   ]
  },
  {
   "cell_type": "code",
   "execution_count": 4,
   "id": "7ce51f03",
   "metadata": {},
   "outputs": [
    {
     "data": {
      "text/plain": [
       "10"
      ]
     },
     "execution_count": 4,
     "metadata": {},
     "output_type": "execute_result"
    }
   ],
   "source": [
    "#2.Python program to count the num of digits present in a num.\n",
    "\n",
    "num1=8317375115\n",
    "len(str(num1)) \n",
    "    "
   ]
  },
  {
   "cell_type": "code",
   "execution_count": 5,
   "id": "a1bc0f55",
   "metadata": {},
   "outputs": [
    {
     "name": "stdout",
     "output_type": "stream",
     "text": [
      "[1, 2, 3, 4, 5]\n"
     ]
    }
   ],
   "source": [
    "#3.To remove the duplicate element from the list\n",
    "list1=[1,2,3,4,5,1,2,3]\n",
    "list2=[]\n",
    "for x in list1:\n",
    "    if x not in list2:\n",
    "        list2.append(x)\n",
    "print(list2)"
   ]
  },
  {
   "cell_type": "code",
   "execution_count": null,
   "id": "d822177c",
   "metadata": {},
   "outputs": [],
   "source": [
    "# 4.Python Program to Display Calendar"
   ]
  },
  {
   "cell_type": "code",
   "execution_count": 6,
   "id": "18dd5195",
   "metadata": {},
   "outputs": [
    {
     "name": "stdout",
     "output_type": "stream",
     "text": [
      "105\n"
     ]
    }
   ],
   "source": [
    "#5.Python program to find the sum of arrays\n",
    "a=[12,13,14,15,16,17,18]\n",
    "sum=0\n",
    "for i in range(len(a)):\n",
    "    sum=sum+a[i]\n",
    "print(sum)"
   ]
  },
  {
   "cell_type": "code",
   "execution_count": null,
   "id": "ec59b90d",
   "metadata": {},
   "outputs": [],
   "source": [
    "# 6. Python | Check for URL in a String."
   ]
  },
  {
   "cell_type": "code",
   "execution_count": 7,
   "id": "5e569688",
   "metadata": {},
   "outputs": [
    {
     "name": "stdout",
     "output_type": "stream",
     "text": [
      "[(1, 1), (2, 8), (3, 27), (4, 64), (5, 125)]\n"
     ]
    }
   ],
   "source": [
    "# 7. Create a list of tuples from the given list having number and its cube in each tuple.\n",
    "numbers = [1, 2, 3, 4, 5]\n",
    "cubes = [(num, num ** 3) for num in numbers]\n",
    "print(cubes)"
   ]
  },
  {
   "cell_type": "code",
   "execution_count": 10,
   "id": "4e9fca62",
   "metadata": {},
   "outputs": [
    {
     "name": "stdout",
     "output_type": "stream",
     "text": [
      "['one', 'two', 'three', 'four', 'five', 'six', 'seven', 'eight']\n"
     ]
    }
   ],
   "source": [
    "# 8. Python program to Delete all Elements in List.\n",
    "mylist = ['one' , 'two' , 'three' , 'four' , 'five' , 'six' ,\n",
    "          'seven' , 'eight']\n",
    "print(mylist)\n",
    "mylist.clear()\n"
   ]
  },
  {
   "cell_type": "code",
   "execution_count": 12,
   "id": "7d48ac0f",
   "metadata": {},
   "outputs": [
    {
     "name": "stdout",
     "output_type": "stream",
     "text": [
      "my list after deleting all element []\n"
     ]
    }
   ],
   "source": [
    "print(\"my list after deleting all element\", mylist)"
   ]
  },
  {
   "cell_type": "code",
   "execution_count": null,
   "id": "aabacee9",
   "metadata": {},
   "outputs": [],
   "source": [
    "# 9. Python Program to Enter Basic Salary and Calculate Gross Salary of an Employee."
   ]
  },
  {
   "cell_type": "code",
   "execution_count": 13,
   "id": "c8e06ec4",
   "metadata": {},
   "outputs": [
    {
     "name": "stdout",
     "output_type": "stream",
     "text": [
      "6.0\n"
     ]
    }
   ],
   "source": [
    "# 10. Python Program to Calculate the Average of Numbers in a Given List\n",
    "from functools import reduce\n",
    "numbers=[5,4,6,7,8]\n",
    "average=reduce(lambda a,b:a+b,numbers)/len(numbers)\n",
    "print(average)"
   ]
  },
  {
   "cell_type": "code",
   "execution_count": null,
   "id": "1c78bfbe",
   "metadata": {},
   "outputs": [],
   "source": []
  },
  {
   "cell_type": "code",
   "execution_count": null,
   "id": "e956e238",
   "metadata": {},
   "outputs": [],
   "source": []
  }
 ],
 "metadata": {
  "kernelspec": {
   "display_name": "Python 3 (ipykernel)",
   "language": "python",
   "name": "python3"
  },
  "language_info": {
   "codemirror_mode": {
    "name": "ipython",
    "version": 3
   },
   "file_extension": ".py",
   "mimetype": "text/x-python",
   "name": "python",
   "nbconvert_exporter": "python",
   "pygments_lexer": "ipython3",
   "version": "3.11.5"
  }
 },
 "nbformat": 4,
 "nbformat_minor": 5
}
