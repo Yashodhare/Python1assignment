{
 "cells": [
  {
   "cell_type": "code",
   "execution_count": 1,
   "id": "9fb21c39",
   "metadata": {},
   "outputs": [],
   "source": [
    "str1='hello python'"
   ]
  },
  {
   "cell_type": "code",
   "execution_count": 2,
   "id": "00b32776",
   "metadata": {},
   "outputs": [
    {
     "name": "stdout",
     "output_type": "stream",
     "text": [
      "hello python\n"
     ]
    }
   ],
   "source": [
    "print(str1)\n"
   ]
  },
  {
   "cell_type": "code",
   "execution_count": 3,
   "id": "5b47a085",
   "metadata": {},
   "outputs": [
    {
     "data": {
      "text/plain": [
       "'ph'"
      ]
     },
     "execution_count": 3,
     "metadata": {},
     "output_type": "execute_result"
    }
   ],
   "source": [
    "str1[6:13:3]"
   ]
  },
  {
   "cell_type": "code",
   "execution_count": 4,
   "id": "80075c91",
   "metadata": {},
   "outputs": [
    {
     "data": {
      "text/plain": [
       "'l yhn'"
      ]
     },
     "execution_count": 4,
     "metadata": {},
     "output_type": "execute_result"
    }
   ],
   "source": [
    "str1[3:12:2]"
   ]
  },
  {
   "cell_type": "code",
   "execution_count": 5,
   "id": "ebf3a5b8",
   "metadata": {},
   "outputs": [
    {
     "data": {
      "text/plain": [
       "'oyo'"
      ]
     },
     "execution_count": 5,
     "metadata": {},
     "output_type": "execute_result"
    }
   ],
   "source": [
    "str1[4:14:3]"
   ]
  },
  {
   "cell_type": "code",
   "execution_count": 6,
   "id": "8a180d93",
   "metadata": {},
   "outputs": [
    {
     "data": {
      "text/plain": [
       "''"
      ]
     },
     "execution_count": 6,
     "metadata": {},
     "output_type": "execute_result"
    }
   ],
   "source": [
    "str1[4:14:-2]"
   ]
  },
  {
   "cell_type": "code",
   "execution_count": 7,
   "id": "cf0b1274",
   "metadata": {},
   "outputs": [
    {
     "data": {
      "text/plain": [
       "'ello'"
      ]
     },
     "execution_count": 7,
     "metadata": {},
     "output_type": "execute_result"
    }
   ],
   "source": [
    "str1[-11:-7]"
   ]
  },
  {
   "cell_type": "code",
   "execution_count": 8,
   "id": "e161d80e",
   "metadata": {},
   "outputs": [
    {
     "data": {
      "text/plain": [
       "'hello py'"
      ]
     },
     "execution_count": 8,
     "metadata": {},
     "output_type": "execute_result"
    }
   ],
   "source": [
    "str1[-12:-4]"
   ]
  },
  {
   "cell_type": "code",
   "execution_count": 9,
   "id": "efab5769",
   "metadata": {},
   "outputs": [
    {
     "data": {
      "text/plain": [
       "''"
      ]
     },
     "execution_count": 9,
     "metadata": {},
     "output_type": "execute_result"
    }
   ],
   "source": [
    "str1[-4:-7]"
   ]
  },
  {
   "cell_type": "code",
   "execution_count": 10,
   "id": "b4c6d1ad",
   "metadata": {},
   "outputs": [
    {
     "data": {
      "text/plain": [
       "' py'"
      ]
     },
     "execution_count": 10,
     "metadata": {},
     "output_type": "execute_result"
    }
   ],
   "source": [
    "str1[-7:-4]"
   ]
  },
  {
   "cell_type": "code",
   "execution_count": 11,
   "id": "472c89d7",
   "metadata": {},
   "outputs": [],
   "source": [
    "str2='world'"
   ]
  },
  {
   "cell_type": "code",
   "execution_count": 12,
   "id": "2e05b699",
   "metadata": {},
   "outputs": [
    {
     "name": "stdout",
     "output_type": "stream",
     "text": [
      "world\n"
     ]
    }
   ],
   "source": [
    "print(str2)\n"
   ]
  },
  {
   "cell_type": "code",
   "execution_count": 14,
   "id": "c2c1d483",
   "metadata": {},
   "outputs": [
    {
     "data": {
      "text/plain": [
       "('hello python', 'o')"
      ]
     },
     "execution_count": 14,
     "metadata": {},
     "output_type": "execute_result"
    }
   ],
   "source": [
    "str1,str2[1:2]\n"
   ]
  },
  {
   "cell_type": "code",
   "execution_count": 15,
   "id": "f7a4100c",
   "metadata": {},
   "outputs": [
    {
     "data": {
      "text/plain": [
       "('e', 'o')"
      ]
     },
     "execution_count": 15,
     "metadata": {},
     "output_type": "execute_result"
    }
   ],
   "source": [
    "str1[1:2:3],str2[1:2:3]"
   ]
  },
  {
   "cell_type": "code",
   "execution_count": 17,
   "id": "46d6ef93",
   "metadata": {},
   "outputs": [
    {
     "data": {
      "text/plain": [
       "('ph', 'o')"
      ]
     },
     "execution_count": 17,
     "metadata": {},
     "output_type": "execute_result"
    }
   ],
   "source": [
    "str1[6:13:3],str2[1:3:4]"
   ]
  },
  {
   "cell_type": "code",
   "execution_count": 18,
   "id": "e2a3e58e",
   "metadata": {},
   "outputs": [
    {
     "data": {
      "text/plain": [
       "'typ oll'"
      ]
     },
     "execution_count": 18,
     "metadata": {},
     "output_type": "execute_result"
    }
   ],
   "source": [
    "str1[-4:-11:-1]"
   ]
  },
  {
   "cell_type": "code",
   "execution_count": 28,
   "id": "5d48323f",
   "metadata": {},
   "outputs": [
    {
     "data": {
      "text/plain": [
       "'y le'"
      ]
     },
     "execution_count": 28,
     "metadata": {},
     "output_type": "execute_result"
    }
   ],
   "source": [
    "str1[-5:-12:-2]"
   ]
  },
  {
   "cell_type": "code",
   "execution_count": 5,
   "id": "83603bf2",
   "metadata": {},
   "outputs": [
    {
     "name": "stdout",
     "output_type": "stream",
     "text": [
      "Data is new fuel\n"
     ]
    }
   ],
   "source": [
    "str3=\"Data is new fuel\"\n",
    "print(str3)"
   ]
  },
  {
   "cell_type": "code",
   "execution_count": 6,
   "id": "e0bb940b",
   "metadata": {},
   "outputs": [
    {
     "data": {
      "text/plain": [
       "'new'"
      ]
     },
     "execution_count": 6,
     "metadata": {},
     "output_type": "execute_result"
    }
   ],
   "source": [
    "str3[8:11]"
   ]
  },
  {
   "cell_type": "code",
   "execution_count": 8,
   "id": "5f11fd23",
   "metadata": {},
   "outputs": [
    {
     "data": {
      "text/plain": [
       "'new'"
      ]
     },
     "execution_count": 8,
     "metadata": {},
     "output_type": "execute_result"
    }
   ],
   "source": [
    "str3[8:11]"
   ]
  },
  {
   "cell_type": "code",
   "execution_count": 9,
   "id": "96bb3db5",
   "metadata": {},
   "outputs": [
    {
     "data": {
      "text/plain": [
       "''"
      ]
     },
     "execution_count": 9,
     "metadata": {},
     "output_type": "execute_result"
    }
   ],
   "source": [
    "str3[-8:-11]"
   ]
  },
  {
   "cell_type": "code",
   "execution_count": 10,
   "id": "31109305",
   "metadata": {},
   "outputs": [
    {
     "data": {
      "text/plain": [
       "'n'"
      ]
     },
     "execution_count": 10,
     "metadata": {},
     "output_type": "execute_result"
    }
   ],
   "source": [
    "str3[8:9]"
   ]
  },
  {
   "cell_type": "code",
   "execution_count": 13,
   "id": "84832ac9",
   "metadata": {},
   "outputs": [
    {
     "ename": "NameError",
     "evalue": "name 'str1' is not defined",
     "output_type": "error",
     "traceback": [
      "\u001b[1;31m---------------------------------------------------------------------------\u001b[0m",
      "\u001b[1;31mNameError\u001b[0m                                 Traceback (most recent call last)",
      "Cell \u001b[1;32mIn[13], line 2\u001b[0m\n\u001b[0;32m      1\u001b[0m \u001b[38;5;66;03m#reverse data from above string\u001b[39;00m\n\u001b[1;32m----> 2\u001b[0m str1[\u001b[38;5;241m9\u001b[39m:\u001b[38;5;241m11\u001b[39m]\n",
      "\u001b[1;31mNameError\u001b[0m: name 'str1' is not defined"
     ]
    }
   ],
   "source": [
    "#reverse data from above string\n",
    "str1[9:11]"
   ]
  }
 ],
 "metadata": {
  "kernelspec": {
   "display_name": "Python 3 (ipykernel)",
   "language": "python",
   "name": "python3"
  },
  "language_info": {
   "codemirror_mode": {
    "name": "ipython",
    "version": 3
   },
   "file_extension": ".py",
   "mimetype": "text/x-python",
   "name": "python",
   "nbconvert_exporter": "python",
   "pygments_lexer": "ipython3",
   "version": "3.11.5"
  }
 },
 "nbformat": 4,
 "nbformat_minor": 5
}
