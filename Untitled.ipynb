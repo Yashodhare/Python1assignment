{
 "cells": [
  {
   "cell_type": "code",
   "execution_count": 5,
   "id": "6f3d9e09",
   "metadata": {},
   "outputs": [],
   "source": [
    "str1=\"data is new fuel\""
   ]
  },
  {
   "cell_type": "code",
   "execution_count": 6,
   "id": "54a83eca",
   "metadata": {},
   "outputs": [
    {
     "name": "stdout",
     "output_type": "stream",
     "text": [
      "data is new fuel\n"
     ]
    }
   ],
   "source": [
    "print(str1)\n"
   ]
  },
  {
   "cell_type": "code",
   "execution_count": 7,
   "id": "6e23a55d",
   "metadata": {},
   "outputs": [
    {
     "data": {
      "text/plain": [
       "'data'"
      ]
     },
     "execution_count": 7,
     "metadata": {},
     "output_type": "execute_result"
    }
   ],
   "source": [
    "str1[-16:-12]"
   ]
  },
  {
   "cell_type": "code",
   "execution_count": 11,
   "id": "d2a02ebc",
   "metadata": {},
   "outputs": [
    {
     "data": {
      "text/plain": [
       "' atad'"
      ]
     },
     "execution_count": 11,
     "metadata": {},
     "output_type": "execute_result"
    }
   ],
   "source": [
    "str1[-12:-17:-1]"
   ]
  },
  {
   "cell_type": "code",
   "execution_count": 17,
   "id": "9882e221",
   "metadata": {},
   "outputs": [
    {
     "data": {
      "text/plain": [
       "'wen'"
      ]
     },
     "execution_count": 17,
     "metadata": {},
     "output_type": "execute_result"
    }
   ],
   "source": [
    "str1[-6:-9:-1]"
   ]
  },
  {
   "cell_type": "code",
   "execution_count": 19,
   "id": "9a93bb6c",
   "metadata": {},
   "outputs": [
    {
     "name": "stdout",
     "output_type": "stream",
     "text": [
      "hello python\n"
     ]
    }
   ],
   "source": [
    "str2='hello python'\n",
    "print(str2)"
   ]
  },
  {
   "cell_type": "code",
   "execution_count": 20,
   "id": "54f0b433",
   "metadata": {},
   "outputs": [],
   "source": [
    "str2=str1.replace(' ', '&')"
   ]
  },
  {
   "cell_type": "code",
   "execution_count": 22,
   "id": "fdfd9b40",
   "metadata": {},
   "outputs": [
    {
     "name": "stdout",
     "output_type": "stream",
     "text": [
      "data&is&new&fuel\n"
     ]
    }
   ],
   "source": [
    "print(str2)"
   ]
  },
  {
   "cell_type": "code",
   "execution_count": 23,
   "id": "d85620f1",
   "metadata": {},
   "outputs": [],
   "source": [
    "del str1"
   ]
  },
  {
   "cell_type": "code",
   "execution_count": 27,
   "id": "52c08672",
   "metadata": {},
   "outputs": [
    {
     "data": {
      "text/plain": [
       "'Data-science'"
      ]
     },
     "execution_count": 27,
     "metadata": {},
     "output_type": "execute_result"
    }
   ],
   "source": [
    "#string concatination\n",
    "s1='Data'\n",
    "s2='science'\n",
    "s3=s1+'-'+s2\n",
    "s3"
   ]
  },
  {
   "cell_type": "code",
   "execution_count": 28,
   "id": "60493fd1",
   "metadata": {},
   "outputs": [],
   "source": [
    "#string Membership\n",
    "mystr1= 'Hello Everyone'"
   ]
  },
  {
   "cell_type": "code",
   "execution_count": 29,
   "id": "01bdb25a",
   "metadata": {},
   "outputs": [
    {
     "data": {
      "text/plain": [
       "True"
      ]
     },
     "execution_count": 29,
     "metadata": {},
     "output_type": "execute_result"
    }
   ],
   "source": [
    "'Hello' in mystr1"
   ]
  },
  {
   "cell_type": "code",
   "execution_count": 32,
   "id": "1c923aca",
   "metadata": {},
   "outputs": [
    {
     "name": "stdout",
     "output_type": "stream",
     "text": [
      "Enter stringHi 2 all\n"
     ]
    },
    {
     "data": {
      "text/plain": [
       "'Hi 2 all'"
      ]
     },
     "execution_count": 32,
     "metadata": {},
     "output_type": "execute_result"
    }
   ],
   "source": [
    "str3=input('Enter string')\n",
    "str3\n"
   ]
  },
  {
   "cell_type": "code",
   "execution_count": 33,
   "id": "11c28c07",
   "metadata": {},
   "outputs": [],
   "source": [
    "mystr3='Hi 2 all'"
   ]
  },
  {
   "cell_type": "code",
   "execution_count": 34,
   "id": "ca00cd2d",
   "metadata": {},
   "outputs": [
    {
     "data": {
      "text/plain": [
       "True"
      ]
     },
     "execution_count": 34,
     "metadata": {},
     "output_type": "execute_result"
    }
   ],
   "source": [
    "'2' in mystr3"
   ]
  },
  {
   "cell_type": "code",
   "execution_count": 41,
   "id": "8e3d58e7",
   "metadata": {},
   "outputs": [
    {
     "data": {
      "text/plain": [
       "('Natural', ' ', 'Language processing with Python and R and Java')"
      ]
     },
     "execution_count": 41,
     "metadata": {},
     "output_type": "execute_result"
    }
   ],
   "source": [
    "# string function\n",
    "\n",
    "#String partioning\n",
    "str5=\"Natural Language processing with Python and R and Java\"\n",
    "L= str5.partition(\" \")\n",
    "L"
   ]
  },
  {
   "cell_type": "code",
   "execution_count": 50,
   "id": "1764060e",
   "metadata": {},
   "outputs": [
    {
     "data": {
      "text/plain": [
       "' Hello python '"
      ]
     },
     "execution_count": 50,
     "metadata": {},
     "output_type": "execute_result"
    }
   ],
   "source": [
    "#count\n",
    "mystr2=' Hello python '\n",
    "mystr2"
   ]
  },
  {
   "cell_type": "code",
   "execution_count": 51,
   "id": "7d4cddb8",
   "metadata": {},
   "outputs": [
    {
     "data": {
      "text/plain": [
       "3"
      ]
     },
     "execution_count": 51,
     "metadata": {},
     "output_type": "execute_result"
    }
   ],
   "source": [
    "mystr2.count(' ')"
   ]
  },
  {
   "cell_type": "code",
   "execution_count": 52,
   "id": "6207f492",
   "metadata": {},
   "outputs": [
    {
     "data": {
      "text/plain": [
       "' Hello python '"
      ]
     },
     "execution_count": 52,
     "metadata": {},
     "output_type": "execute_result"
    }
   ],
   "source": [
    "#strip\n",
    "mystr2.strip('hon')\n"
   ]
  },
  {
   "cell_type": "code",
   "execution_count": 53,
   "id": "b357c0a5",
   "metadata": {},
   "outputs": [
    {
     "data": {
      "text/plain": [
       "' Hello python '"
      ]
     },
     "execution_count": 53,
     "metadata": {},
     "output_type": "execute_result"
    }
   ],
   "source": [
    "mystr2"
   ]
  },
  {
   "cell_type": "code",
   "execution_count": 54,
   "id": "3fe8f2a5",
   "metadata": {},
   "outputs": [
    {
     "data": {
      "text/plain": [
       "' Hello python'"
      ]
     },
     "execution_count": 54,
     "metadata": {},
     "output_type": "execute_result"
    }
   ],
   "source": [
    "mystr2.rstrip()"
   ]
  },
  {
   "cell_type": "code",
   "execution_count": 55,
   "id": "52d0050f",
   "metadata": {},
   "outputs": [
    {
     "data": {
      "text/plain": [
       "'Hello python '"
      ]
     },
     "execution_count": 55,
     "metadata": {},
     "output_type": "execute_result"
    }
   ],
   "source": [
    "mystr2.lstrip()"
   ]
  },
  {
   "cell_type": "code",
   "execution_count": 56,
   "id": "7c90e4ed",
   "metadata": {},
   "outputs": [],
   "source": [
    "#lower\n",
    "mystr2='HELLO PYTHON'"
   ]
  },
  {
   "cell_type": "code",
   "execution_count": 57,
   "id": "108f8a3e",
   "metadata": {},
   "outputs": [],
   "source": [
    "mystr2=mystr2.lower()"
   ]
  },
  {
   "cell_type": "code",
   "execution_count": 58,
   "id": "5abb471e",
   "metadata": {},
   "outputs": [
    {
     "data": {
      "text/plain": [
       "'hello python'"
      ]
     },
     "execution_count": 58,
     "metadata": {},
     "output_type": "execute_result"
    }
   ],
   "source": [
    "mystr2"
   ]
  },
  {
   "cell_type": "code",
   "execution_count": 59,
   "id": "7ca33cae",
   "metadata": {},
   "outputs": [],
   "source": [
    "#upper\n",
    "mystr5='hello python'"
   ]
  },
  {
   "cell_type": "code",
   "execution_count": 60,
   "id": "010ef512",
   "metadata": {},
   "outputs": [
    {
     "data": {
      "text/plain": [
       "'HELLO PYTHON'"
      ]
     },
     "execution_count": 60,
     "metadata": {},
     "output_type": "execute_result"
    }
   ],
   "source": [
    "mystr5.upper()"
   ]
  },
  {
   "cell_type": "code",
   "execution_count": 62,
   "id": "df9eaae4",
   "metadata": {},
   "outputs": [
    {
     "data": {
      "text/plain": [
       "'hello python'"
      ]
     },
     "execution_count": 62,
     "metadata": {},
     "output_type": "execute_result"
    }
   ],
   "source": [
    "#starts with\n",
    "mystr5"
   ]
  },
  {
   "cell_type": "code",
   "execution_count": 63,
   "id": "be040814",
   "metadata": {},
   "outputs": [
    {
     "data": {
      "text/plain": [
       "True"
      ]
     },
     "execution_count": 63,
     "metadata": {},
     "output_type": "execute_result"
    }
   ],
   "source": [
    "\n",
    "\n",
    "mystr5.startswith('hello')"
   ]
  },
  {
   "cell_type": "code",
   "execution_count": 64,
   "id": "a262d253",
   "metadata": {},
   "outputs": [
    {
     "data": {
      "text/plain": [
       "'hello python'"
      ]
     },
     "execution_count": 64,
     "metadata": {},
     "output_type": "execute_result"
    }
   ],
   "source": [
    "#ends with\n",
    "mystr5"
   ]
  },
  {
   "cell_type": "code",
   "execution_count": 65,
   "id": "81ebccd4",
   "metadata": {},
   "outputs": [
    {
     "data": {
      "text/plain": [
       "True"
      ]
     },
     "execution_count": 65,
     "metadata": {},
     "output_type": "execute_result"
    }
   ],
   "source": [
    "mystr5.endswith('thon')"
   ]
  },
  {
   "cell_type": "code",
   "execution_count": 78,
   "id": "546dd210",
   "metadata": {},
   "outputs": [
    {
     "data": {
      "text/plain": [
       "'one two three four five six two seven eight nine ten two eleven two'"
      ]
     },
     "execution_count": 78,
     "metadata": {},
     "output_type": "execute_result"
    }
   ],
   "source": [
    "mystr4='one two three four five six two seven eight nine ten two eleven two'\n",
    "mystr4"
   ]
  },
  {
   "cell_type": "code",
   "execution_count": 79,
   "id": "f53972c4",
   "metadata": {},
   "outputs": [
    {
     "name": "stdout",
     "output_type": "stream",
     "text": [
      "['one', 'two', 'three', 'four', 'five', 'six', 'two', 'seven', 'eight', 'nine', 'ten', 'two', 'eleven', 'two']\n"
     ]
    }
   ],
   "source": [
    "print(mystr4.split())\n"
   ]
  },
  {
   "cell_type": "code",
   "execution_count": null,
   "id": "471bf3e4",
   "metadata": {},
   "outputs": [],
   "source": []
  },
  {
   "cell_type": "code",
   "execution_count": 80,
   "id": "83aa7853",
   "metadata": {},
   "outputs": [
    {
     "name": "stdout",
     "output_type": "stream",
     "text": [
      "['', ' two three four five six two seven eight nine ten two eleven two']\n"
     ]
    }
   ],
   "source": [
    "print(mystr4.split('one'))"
   ]
  },
  {
   "cell_type": "code",
   "execution_count": 81,
   "id": "4468ce97",
   "metadata": {},
   "outputs": [
    {
     "name": "stdout",
     "output_type": "stream",
     "text": [
      "['one ', ' three four five six ', ' seven eight nine ten ', ' eleven ', '']\n"
     ]
    }
   ],
   "source": [
    "print(mystr4.split('two'))"
   ]
  },
  {
   "cell_type": "code",
   "execution_count": 82,
   "id": "505097bb",
   "metadata": {},
   "outputs": [
    {
     "data": {
      "text/plain": [
       "'one two three four five six two seven eight nine ten two eleven two'"
      ]
     },
     "execution_count": 82,
     "metadata": {},
     "output_type": "execute_result"
    }
   ],
   "source": [
    "mystr4"
   ]
  },
  {
   "cell_type": "code",
   "execution_count": 83,
   "id": "a5572791",
   "metadata": {},
   "outputs": [
    {
     "name": "stdout",
     "output_type": "stream",
     "text": [
      "The value of a &b is 5 7\n"
     ]
    }
   ],
   "source": [
    "a=5\n",
    "b=7\n",
    "sum=a+b\n",
    "print(\"The value of a &b is\",a,b)"
   ]
  },
  {
   "cell_type": "code",
   "execution_count": 87,
   "id": "910803ef",
   "metadata": {},
   "outputs": [
    {
     "name": "stdout",
     "output_type": "stream",
     "text": [
      "The sum of a is 5 and b is 7 is this is my sum12\n"
     ]
    }
   ],
   "source": [
    "print(\"The sum of a is {} and b is {} is this is my sum{}\".format(a,b,sum))"
   ]
  },
  {
   "cell_type": "code",
   "execution_count": 90,
   "id": "0085d1dc",
   "metadata": {},
   "outputs": [
    {
     "data": {
      "text/plain": [
       "'cost of item1,item2,item3 are 1,2,3'"
      ]
     },
     "execution_count": 90,
     "metadata": {},
     "output_type": "execute_result"
    }
   ],
   "source": [
    "item1=4\n",
    "item2=5\n",
    "item3=6\n",
    "('cost of item1,item2,item3 are {},{},{}'.format(1,2,3))"
   ]
  },
  {
   "cell_type": "code",
   "execution_count": 91,
   "id": "4ac2fce4",
   "metadata": {},
   "outputs": [
    {
     "data": {
      "text/plain": [
       "10.6"
      ]
     },
     "execution_count": 91,
     "metadata": {},
     "output_type": "execute_result"
    }
   ],
   "source": [
    "4+5.6+False+True"
   ]
  },
  {
   "cell_type": "code",
   "execution_count": null,
   "id": "20ee5a28",
   "metadata": {},
   "outputs": [],
   "source": []
  }
 ],
 "metadata": {
  "kernelspec": {
   "display_name": "Python 3 (ipykernel)",
   "language": "python",
   "name": "python3"
  },
  "language_info": {
   "codemirror_mode": {
    "name": "ipython",
    "version": 3
   },
   "file_extension": ".py",
   "mimetype": "text/x-python",
   "name": "python",
   "nbconvert_exporter": "python",
   "pygments_lexer": "ipython3",
   "version": "3.11.5"
  }
 },
 "nbformat": 4,
 "nbformat_minor": 5
}
