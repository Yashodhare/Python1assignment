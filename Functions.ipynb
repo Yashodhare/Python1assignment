{
 "cells": [
  {
   "cell_type": "code",
   "execution_count": 80,
   "id": "00fb1bbd",
   "metadata": {},
   "outputs": [],
   "source": [
    "addition=lambda a:a+10"
   ]
  },
  {
   "cell_type": "code",
   "execution_count": 81,
   "id": "838b45e1",
   "metadata": {},
   "outputs": [
    {
     "name": "stdout",
     "output_type": "stream",
     "text": [
      "18\n"
     ]
    }
   ],
   "source": [
    "print(addition(8))"
   ]
  },
  {
   "cell_type": "code",
   "execution_count": 82,
   "id": "9d83f376",
   "metadata": {},
   "outputs": [],
   "source": [
    "product=lambda a:a*10"
   ]
  },
  {
   "cell_type": "code",
   "execution_count": 83,
   "id": "e495d08b",
   "metadata": {},
   "outputs": [
    {
     "name": "stdout",
     "output_type": "stream",
     "text": [
      "20\n"
     ]
    }
   ],
   "source": [
    "print(product(2))"
   ]
  },
  {
   "cell_type": "code",
   "execution_count": 84,
   "id": "176f7ec1",
   "metadata": {},
   "outputs": [],
   "source": [
    "#OR\n",
    "product=lambda a,b:a*b"
   ]
  },
  {
   "cell_type": "code",
   "execution_count": 85,
   "id": "2d7dd852",
   "metadata": {},
   "outputs": [
    {
     "name": "stdout",
     "output_type": "stream",
     "text": [
      "8\n"
     ]
    }
   ],
   "source": [
    "print(product(2,4))"
   ]
  },
  {
   "cell_type": "code",
   "execution_count": 86,
   "id": "fd05c4fa",
   "metadata": {},
   "outputs": [],
   "source": [
    "div=lambda a,b:a/b"
   ]
  },
  {
   "cell_type": "code",
   "execution_count": 87,
   "id": "29767b56",
   "metadata": {},
   "outputs": [
    {
     "name": "stdout",
     "output_type": "stream",
     "text": [
      "2.0\n"
     ]
    }
   ],
   "source": [
    "print(div(4,2))"
   ]
  },
  {
   "cell_type": "code",
   "execution_count": 88,
   "id": "6cbf7b3d",
   "metadata": {},
   "outputs": [],
   "source": [
    "mod=lambda a,b:a%b"
   ]
  },
  {
   "cell_type": "code",
   "execution_count": 89,
   "id": "d901cdf5",
   "metadata": {},
   "outputs": [
    {
     "name": "stdout",
     "output_type": "stream",
     "text": [
      "2\n"
     ]
    }
   ],
   "source": [
    "print(mod(5,3))"
   ]
  },
  {
   "cell_type": "code",
   "execution_count": 90,
   "id": "cd555134",
   "metadata": {},
   "outputs": [],
   "source": [
    "square=lambda a:a**2"
   ]
  },
  {
   "cell_type": "code",
   "execution_count": 91,
   "id": "cea9f710",
   "metadata": {},
   "outputs": [
    {
     "name": "stdout",
     "output_type": "stream",
     "text": [
      "25\n"
     ]
    }
   ],
   "source": [
    "print(square(5))"
   ]
  },
  {
   "cell_type": "code",
   "execution_count": null,
   "id": "e8233d49",
   "metadata": {},
   "outputs": [],
   "source": [
    "# Task: print greeting by using lambda functions\n",
    "# expected output: Hey name of user, hope you are doing well?\n",
    "\n",
    "greeting= lambda name: name,\n",
    "print(greeting('hey'))\n",
    "\n"
   ]
  },
  {
   "cell_type": "code",
   "execution_count": null,
   "id": "eae3fed3",
   "metadata": {},
   "outputs": [],
   "source": [
    "print(greeting(Hey name of user, hope you are doing well?))"
   ]
  },
  {
   "cell_type": "code",
   "execution_count": 94,
   "id": "0e2c1a61",
   "metadata": {},
   "outputs": [
    {
     "name": "stdout",
     "output_type": "stream",
     "text": [
      "13\n"
     ]
    }
   ],
   "source": [
    "from functools import reduce\n",
    "lis=[1, 3,4,5]\n",
    "print(reduce(lambda a,b:a+b,lis))"
   ]
  },
  {
   "cell_type": "code",
   "execution_count": 95,
   "id": "12b89672",
   "metadata": {},
   "outputs": [
    {
     "name": "stdout",
     "output_type": "stream",
     "text": [
      "The max value of list is :6\n"
     ]
    }
   ],
   "source": [
    "lis=[1,3,5,6,2]\n",
    "print('The max value of list is :',end='')\n",
    "print(reduce(lambda a,b: a if a>b else b, lis))"
   ]
  },
  {
   "cell_type": "code",
   "execution_count": 98,
   "id": "bc670d61",
   "metadata": {},
   "outputs": [
    {
     "name": "stdout",
     "output_type": "stream",
     "text": [
      "Enter numbers: 4\n"
     ]
    },
    {
     "data": {
      "text/plain": [
       "['Even']"
      ]
     },
     "execution_count": 98,
     "metadata": {},
     "output_type": "execute_result"
    }
   ],
   "source": [
    "def check(num):    \n",
    "    if num % 2 == 0:         \n",
    "        return \"Even\"     \n",
    "    else:         \n",
    "        return \"Odd\" \n",
    "num = input(\"Enter numbers: \") \n",
    "numbers = list(map(int, num.split()))\n",
    "res = list(map(check, numbers)) \n",
    "res"
   ]
  },
  {
   "cell_type": "code",
   "execution_count": 100,
   "id": "728a0875",
   "metadata": {},
   "outputs": [
    {
     "name": "stdout",
     "output_type": "stream",
     "text": [
      "Enter number: 5\n",
      "Result: ['Odd']\n"
     ]
    }
   ],
   "source": [
    "# define function\n",
    "# get 1 input\n",
    "#\n",
    "def check_odd_even(number):     \n",
    "    if number % 2 == 0:         \n",
    "        return \"Even\"     \n",
    "    else:        \n",
    "        return \"Odd\" \n",
    "user = input(\"Enter number: \")\n",
    "numbers = list(map(int, user.split()))  \n",
    "result = list(map(check_odd_even, numbers))  \n",
    "print(\"Result:\",result)"
   ]
  },
  {
   "cell_type": "code",
   "execution_count": 101,
   "id": "c7b833c8",
   "metadata": {},
   "outputs": [
    {
     "name": "stdout",
     "output_type": "stream",
     "text": [
      "Enter number: 5\n",
      "Result: ['odd']\n"
     ]
    }
   ],
   "source": [
    "def is_even_or_odd(n):\n",
    "     if n % 2 == 0:\n",
    "        return \"even\"\n",
    "     else:\n",
    "        return \"odd\"\n",
    "user = input(\"Enter number: \")\n",
    "numbers = list(map(int, user.split()))  \n",
    "result = list(map(is_even_or_odd, numbers))  \n",
    "print(\"Result:\",result)\n"
   ]
  },
  {
   "cell_type": "code",
   "execution_count": 103,
   "id": "dd7c5300",
   "metadata": {},
   "outputs": [
    {
     "name": "stdout",
     "output_type": "stream",
     "text": [
      "Enter number: 6\n",
      "Result: ['even']\n"
     ]
    }
   ],
   "source": [
    "def is_even_or_odd(n):\n",
    "     if n % 2 == 0:\n",
    "        return \"even\"\n",
    "     else:\n",
    "        return \"odd\"\n",
    "user = input(\"Enter number: \")\n",
    "numbers = list(map(int, user.split()))  \n",
    "result = list(map(is_even_or_odd, numbers))  \n",
    "print(\"Result:\",result)\n"
   ]
  },
  {
   "cell_type": "code",
   "execution_count": 123,
   "id": "d3af08a0",
   "metadata": {},
   "outputs": [
    {
     "name": "stdout",
     "output_type": "stream",
     "text": [
      "Enter a num5\n",
      "it is  a prime num\n"
     ]
    }
   ],
   "source": [
    "#2. Write function to check whether given number is a prime or not\n",
    "n=int(input('Enter a num'))\n",
    "    if n>1:\n",
    "        for i in range(2,int(n/2)+1):\n",
    "            if n%i==0:\n",
    "                print('it is  not prime')\n",
    "                break\n",
    "        else:\n",
    "            print('it is  a prime num')\n",
    "else:\n",
    "      print('it is  not prime')\n",
    "            \n",
    "\n",
    "\n"
   ]
  },
  {
   "cell_type": "code",
   "execution_count": null,
   "id": "1b18ea5e",
   "metadata": {},
   "outputs": [],
   "source": []
  },
  {
   "cell_type": "code",
   "execution_count": 147,
   "id": "552ed66d",
   "metadata": {},
   "outputs": [
    {
     "name": "stdout",
     "output_type": "stream",
     "text": [
      "Enter numbers: 2 4 6\n",
      "Product = 48\n"
     ]
    }
   ],
   "source": [
    "def cal_product(numbers):     \n",
    "    prod = 1     \n",
    "    for n in numbers:         \n",
    "        prod *= n     \n",
    "    return prod  \n",
    "numbers = input(\"Enter numbers: \").split() \n",
    "numbers = list(map(int, numbers)) \n",
    "res = cal_product(numbers)  \n",
    "print(\"Product =\" ,res)"
   ]
  },
  {
   "cell_type": "code",
   "execution_count": 151,
   "id": "e0e4be55",
   "metadata": {},
   "outputs": [
    {
     "name": "stdout",
     "output_type": "stream",
     "text": [
      "Enter numbers: 2 4 6\n",
      "Product = 48\n",
      "Enter numbers: 2 4 6\n",
      "48\n"
     ]
    }
   ],
   "source": [
    "def cal_product(numbers):     \n",
    "    prod = 1     \n",
    "    for n in numbers:         \n",
    "        prod *= n     \n",
    "    return prod  \n",
    "numbers = input(\"Enter numbers: \").split() \n",
    "numbers = list(map(int, numbers)) \n",
    "res = cal_product(numbers)  \n",
    "print(\"Product =\" ,res)\n",
    "from functools import reduce\n",
    "\n",
    "numbers = input(\"Enter numbers: \").split() \n",
    "numbers = list(map(int, numbers)) \n",
    "print(reduce(lambda a,b:a*b,lis))"
   ]
  },
  {
   "cell_type": "code",
   "execution_count": 155,
   "id": "c0c58952",
   "metadata": {},
   "outputs": [
    {
     "name": "stdout",
     "output_type": "stream",
     "text": [
      "Enter numbers: 2 4 6\n",
      "Product = 48\n"
     ]
    }
   ],
   "source": [
    "from functools import reduce  \n",
    "def cal_product(numbers):     \n",
    "    return reduce(lambda x, y: x * y, numbers)  \n",
    "numbers = list(map(int, input(\"Enter numbers: \").split())) \n",
    "res = cal_product(numbers) \n",
    "print(\"Product =\", res)"
   ]
  },
  {
   "cell_type": "code",
   "execution_count": 156,
   "id": "fcc198eb",
   "metadata": {},
   "outputs": [
    {
     "name": "stdout",
     "output_type": "stream",
     "text": [
      "Enter numbers: 2 4 6\n",
      "48\n"
     ]
    }
   ],
   "source": [
    "def cal_product(numbers):     \n",
    "    prod = 1     \n",
    "    for n in numbers:         \n",
    "        prod *= n     \n",
    "    return prod  \n",
    "numbers = input(\"Enter numbers: \").split() \n",
    "numbers = list(map(int, numbers)) \n",
    "print(reduce(lambda a,b:a*b,lis))"
   ]
  },
  {
   "cell_type": "code",
   "execution_count": 159,
   "id": "3bd41d75",
   "metadata": {},
   "outputs": [
    {
     "name": "stdout",
     "output_type": "stream",
     "text": [
      "12\n"
     ]
    }
   ],
   "source": [
    "\n",
    "    num=[2,4,6]\n",
    "    res=reduce(lambda x,y : x+y, num)\n",
    "    print(res)"
   ]
  },
  {
   "cell_type": "code",
   "execution_count": 17,
   "id": "11ba8b57",
   "metadata": {},
   "outputs": [],
   "source": [
    "\n",
    "\n",
    "#6. Create 2 lists of interger values, add both the list element-wise and filter the values which are greater than 10 and find the product of those value (Using lambda, map,filter and reduce).\n",
    "\n",
    "tup=()\n"
   ]
  },
  {
   "cell_type": "code",
   "execution_count": null,
   "id": "56059620",
   "metadata": {},
   "outputs": [],
   "source": []
  },
  {
   "cell_type": "code",
   "execution_count": 218,
   "id": "7be136f9",
   "metadata": {},
   "outputs": [
    {
     "name": "stdout",
     "output_type": "stream",
     "text": [
      "(1, 4, 9, 16)\n"
     ]
    }
   ],
   "source": [
    "#4. Get the square root of the numbers in a tuple.    \n",
    "def sqrt(a):\n",
    "    square=a**2\n",
    "    return square\n",
    "tup1=[1,2,3,4]\n",
    "result= map(sqrt,tup1) \n",
    "print(tuple(result))"
   ]
  },
  {
   "cell_type": "code",
   "execution_count": 221,
   "id": "1211173e",
   "metadata": {},
   "outputs": [
    {
     "ename": "TypeError",
     "evalue": "'str' object is not callable",
     "output_type": "error",
     "traceback": [
      "\u001b[1;31m---------------------------------------------------------------------------\u001b[0m",
      "\u001b[1;31mTypeError\u001b[0m                                 Traceback (most recent call last)",
      "Cell \u001b[1;32mIn[221], line 15\u001b[0m\n\u001b[0;32m     13\u001b[0m                 \u001b[38;5;28mprint\u001b[39m(\u001b[38;5;124m'\u001b[39m\u001b[38;5;124mPrime\u001b[39m\u001b[38;5;124m'\u001b[39m)\n\u001b[0;32m     14\u001b[0m                 \u001b[38;5;28;01mreturn\u001b[39;00m n\n\u001b[1;32m---> 15\u001b[0m num\u001b[38;5;241m=\u001b[39m\u001b[38;5;28mint\u001b[39m(\u001b[38;5;28minput\u001b[39m(\u001b[38;5;124m'\u001b[39m\u001b[38;5;124mEnter the num:\u001b[39m\u001b[38;5;124m'\u001b[39m))\n\u001b[0;32m     16\u001b[0m result\u001b[38;5;241m=\u001b[39mprimecheck(num)\n",
      "\u001b[1;31mTypeError\u001b[0m: 'str' object is not callable"
     ]
    }
   ],
   "source": [
    "#5. Get the prime numbers from the numbers 11 to 30.\n",
    "import math\n",
    "def primecheck(x):\n",
    "    n=1\n",
    "    for i in range(2,int(math.sqrt(x))+1):\n",
    "        if(x%i==0):\n",
    "            n=0\n",
    "            print('Not prime')\n",
    "            break\n",
    "        else:\n",
    "            continue\n",
    "            if(n==1):\n",
    "                print('Prime')\n",
    "                return n\n",
    "num=int(input('Enter the num:'))\n",
    "result=primecheck(num)"
   ]
  },
  {
   "cell_type": "code",
   "execution_count": 202,
   "id": "437d377a",
   "metadata": {},
   "outputs": [],
   "source": [
    "#6. Create 2 lists of interger values, add both the list element-wise and filter the values which are greater than 10 and find the product of those value (Using lambda, map,filter and reduce).\n"
   ]
  },
  {
   "cell_type": "code",
   "execution_count": null,
   "id": "6b1eddcc",
   "metadata": {},
   "outputs": [],
   "source": []
  }
 ],
 "metadata": {
  "kernelspec": {
   "display_name": "Python 3 (ipykernel)",
   "language": "python",
   "name": "python3"
  },
  "language_info": {
   "codemirror_mode": {
    "name": "ipython",
    "version": 3
   },
   "file_extension": ".py",
   "mimetype": "text/x-python",
   "name": "python",
   "nbconvert_exporter": "python",
   "pygments_lexer": "ipython3",
   "version": "3.11.5"
  }
 },
 "nbformat": 4,
 "nbformat_minor": 5
}
