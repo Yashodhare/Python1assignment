{
 "cells": [
  {
   "cell_type": "code",
   "execution_count": 2,
   "id": "637e098b",
   "metadata": {},
   "outputs": [
    {
     "name": "stdout",
     "output_type": "stream",
     "text": [
      "Enter the nameOppo\n",
      "Enter the age22\n",
      "Enter the emailoppoa92020@gmail.com\n",
      "My name is Oppo and i am 22 years old My Professional email ID is oppoa92020@gmail.com\n"
     ]
    }
   ],
   "source": [
    "name=(input(\"Enter the name\"))\n",
    "age=int(input(\"Enter the age\"))\n",
    "email=(input(\"Enter the email\"))\n",
    "print(\"My name is\", name, \"and i am\", age, \"years old\", \"My Professional email ID is\", email)"
   ]
  }
 ],
 "metadata": {
  "kernelspec": {
   "display_name": "Python 3 (ipykernel)",
   "language": "python",
   "name": "python3"
  },
  "language_info": {
   "codemirror_mode": {
    "name": "ipython",
    "version": 3
   },
   "file_extension": ".py",
   "mimetype": "text/x-python",
   "name": "python",
   "nbconvert_exporter": "python",
   "pygments_lexer": "ipython3",
   "version": "3.11.5"
  }
 },
 "nbformat": 4,
 "nbformat_minor": 5
}
